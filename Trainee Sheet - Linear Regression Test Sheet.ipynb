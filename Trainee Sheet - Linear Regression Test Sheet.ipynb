{
 "cells": [
  {
   "cell_type": "markdown",
   "id": "013346cf",
   "metadata": {},
   "source": [
    "# Test Sheet: Predicting Employee Salaries Based on Experience and Education Using Linear Regression"
   ]
  },
  {
   "cell_type": "markdown",
   "id": "aa7816c8",
   "metadata": {},
   "source": [
    "- Objective\n",
    "In this assignment, you will build and evaluate a Linear Regression model to predict employee salaries based on their years of experience and education level. You will use Python's Scikit-Learn library to train the model, assess its performance, and make salary predictions.<br><br>\n",
    "\n",
    "- Scenario\n",
    "A company wants to determine an employee's salary based on their years of experience and education level. The company has historical data on employees’ salaries, experience, and education. Your task is to create a model that accurately predicts employee salaries using this information.<br><br>\n",
    "\n",
    "- Features (Inputs):\n",
    "    - Years of Experience: (e.g., 1, 5, 10, etc.)<br>\n",
    "    - Education Level:<br>\n",
    "        - 1 for Bachelor's<br>\n",
    "        - 2 for Master's<br>\n",
    "        - 3 for PhD<br>\n",
    "- Target (Output):<br>\n",
    "Salary: (continuous value in dollars)<br>\n"
   ]
  },
  {
   "cell_type": "markdown",
   "id": "27b9a1c4",
   "metadata": {},
   "source": [
    "## Instructions\n",
    "### 1. Generate or Load Data:\n",
    "- Generate a synthetic dataset with the following columns:\n",
    "    - experience: Years of experience (integer values, e.g., 1 to 20).\n",
    "    - education_level: Education level (1 for Bachelor's, 2 for Master's, 3 for PhD).\n",
    "    - salary: Continuous salary value (target variable)."
   ]
  },
  {
   "cell_type": "markdown",
   "id": "3bfc0c05",
   "metadata": {},
   "source": [
    "import numpy as np\n",
    "import pandas as pd\n",
    "import matplotlib.pyplot as plt\n",
    "from sklearn.model_selection import train_test_split\n",
    "from sklearn.linear_model import LinearRegression\n",
    "from sklearn.metrics import mean_squared_error, r2_score\n"
   ]
  },
  {
   "cell_type": "code",
   "execution_count": 1,
   "id": "bb8594fc",
   "metadata": {},
   "outputs": [],
   "source": [
    "# Import libraries\n",
    "import pandas as pd\n",
    "import numpy as np\n",
    "import matplotlib.pyplot as plt\n",
    "from sklearn.model_selection import train_test_split\n",
    "from sklearn.linear_model import LinearRegression\n",
    "from sklearn.metrics import mean_squared_error, r2_score"
   ]
  },
  {
   "cell_type": "code",
   "execution_count": 2,
   "id": "26c53251",
   "metadata": {},
   "outputs": [],
   "source": [
    "# import random to generate random values\n",
    "import random"
   ]
  },
  {
   "cell_type": "code",
   "execution_count": 3,
   "id": "a253e595",
   "metadata": {},
   "outputs": [
    {
     "name": "stdout",
     "output_type": "stream",
     "text": [
      "   Experience  Education Level        Salary\n",
      "0           5                1  54460.785803\n",
      "1           7                1  59486.615156\n",
      "2          19                2  39301.636413\n",
      "3           4                2  39018.662469\n",
      "4           6                2  64323.670954\n"
     ]
    }
   ],
   "source": [
    "random.seed(42)\n",
    "# generate 100 random number from 1 to 20 and assgned as experience \n",
    "experience = np.random.randint(1,21, size = 100)\n",
    "\n",
    "# Generate random choice from 1,2 and 3 as level of experience for 100 times, \n",
    "edu_lvl = np.random.choice([1,2,3], size = 100, p = [0.5, 0.3, 0.2])\n",
    "\n",
    "avg_sal = 50000\n",
    "std_sal = 15000\n",
    "\n",
    "# Gnerate 100 values of salaries with averga and standard deviation stated above\n",
    "sal = np.random.normal(avg_sal, std_sal, 100)\n",
    "\n",
    "\n",
    "# create a dataframe \n",
    "df = pd.DataFrame({\n",
    "    'Experience': experience,\n",
    "    'Education Level': edu_lvl,\n",
    "    'Salary': sal\n",
    "})\n",
    "\n",
    "print(df.head())"
   ]
  },
  {
   "cell_type": "markdown",
   "id": "51b8385a",
   "metadata": {},
   "source": [
    "### 2. Data Preprocessing:\n",
    "- Split the dataset into features (experience, education_level) and target (salary).\n",
    "- Perform an 80/20 split to create training and test datasets."
   ]
  },
  {
   "cell_type": "code",
   "execution_count": 4,
   "id": "c3574e14",
   "metadata": {},
   "outputs": [],
   "source": [
    "# Set x as expereince and education level\n",
    "x = df[['Experience', 'Education Level']]\n",
    "\n",
    "#Set y as salary, the target value\n",
    "y = df['Salary']\n"
   ]
  },
  {
   "cell_type": "code",
   "execution_count": 5,
   "id": "a699aff4",
   "metadata": {},
   "outputs": [],
   "source": [
    "# Split the x and y values using train_test_split() with a test size of 20% and train of 80%\n",
    "\n",
    "x_train, x_test, y_train, y_test = train_test_split(x,y, test_size = 0.20, random_state = 42)"
   ]
  },
  {
   "cell_type": "markdown",
   "id": "27965c93",
   "metadata": {},
   "source": [
    "### 3. Train the Linear Regression Model:\n",
    "Train a Linear Regression model on the training data."
   ]
  },
  {
   "cell_type": "code",
   "execution_count": 6,
   "id": "1a006259",
   "metadata": {},
   "outputs": [
    {
     "data": {
      "text/plain": [
       "LinearRegression()"
      ]
     },
     "execution_count": 6,
     "metadata": {},
     "output_type": "execute_result"
    }
   ],
   "source": [
    "# Fit LinearRegression model to x_train, y_train\n",
    "model = LinearRegression()\n",
    "model.fit(x_train, y_train)"
   ]
  },
  {
   "cell_type": "code",
   "execution_count": 7,
   "id": "5906e113",
   "metadata": {},
   "outputs": [],
   "source": [
    "# Predict y_pred based on x_test\n",
    "y_pred = model.predict(x_test)"
   ]
  },
  {
   "cell_type": "markdown",
   "id": "edba3d66",
   "metadata": {},
   "source": [
    "### 4. Evaluate the Model:\n",
    "Evaluate the model on the test data using \n",
    "- Mean Squared Error (MSE) and \n",
    "- R-squared (R²) values."
   ]
  },
  {
   "cell_type": "code",
   "execution_count": 8,
   "id": "3c7d7230",
   "metadata": {},
   "outputs": [
    {
     "name": "stdout",
     "output_type": "stream",
     "text": [
      "Mean Squared Error: 235905881.2355473\n",
      "R-squared Value: -0.13054768862987776\n"
     ]
    }
   ],
   "source": [
    "# Evaluate Squatered Error and R-Squared using mean_squared_error() and r2_score()\n",
    "\n",
    "mse = mean_squared_error(y_test, y_pred)\n",
    "r2 = r2_score(y_test, y_pred)\n",
    "print(f\"Mean Squared Error: {mse}\")\n",
    "print(f\"R-squared Value: {r2}\")"
   ]
  },
  {
   "cell_type": "markdown",
   "id": "63fa2d62",
   "metadata": {},
   "source": [
    "### 5. Make Predictions:\n",
    "- Use the trained model to predict the salary of a new employee.\n",
    "- Example: Predict the salary for an employee with 7 years of experience and a Master's degree (education level = 2)."
   ]
  },
  {
   "cell_type": "code",
   "execution_count": 11,
   "id": "c39e01e7",
   "metadata": {},
   "outputs": [
    {
     "data": {
      "text/plain": [
       "array([48455.32692683])"
      ]
     },
     "execution_count": 11,
     "metadata": {},
     "output_type": "execute_result"
    }
   ],
   "source": [
    "# predict the salary of a new employee with 7 years experience and level 3\n",
    "new_employee = [[7, 3]]\n",
    "new_employee_Salary = model.predict(new_employee)\n",
    "new_employee_Salary"
   ]
  },
  {
   "cell_type": "markdown",
   "id": "6bba5233",
   "metadata": {},
   "source": [
    "### 6. Visualizations (Optional):\n",
    "- Create scatter plots to visualize the relationship between experience, education, and salary.\n",
    "- Plot the model's predictions against the actual salary data.\n"
   ]
  },
  {
   "cell_type": "code",
   "execution_count": 12,
   "id": "e4e4ca0d",
   "metadata": {},
   "outputs": [
    {
     "data": {
      "image/png": "[encoded data removed]",
      "text/plain": [
       "<Figure size 432x288 with 1 Axes>"
      ]
     },
     "metadata": {
      "needs_background": "light"
     },
     "output_type": "display_data"
    }
   ],
   "source": [
    "plt.scatter(df['Experience'], df['Salary'], color = 'blue', label = 'Actual')\n",
    "plt.plot(df['Experience'], model.predict(x), color = 'red', label = 'Predicted')\n",
    "plt.xlabel('Experience(Years)')\n",
    "plt.ylabel('Salary ($)')\n",
    "plt.title('Salary Vs Experience')\n",
    "plt.legend()\n",
    "plt.show()"
   ]
  },
  {
   "cell_type": "markdown",
   "id": "a82eec52",
   "metadata": {},
   "source": [
    "The actual values is generated using random. Hence, the values is scattered all over. Also, the linear_model could not predict the value aligning to the actual value\n"
   ]
  },
  {
   "cell_type": "code",
   "execution_count": null,
   "id": "fc1b6344",
   "metadata": {},
   "outputs": [],
   "source": []
  }
 ],
 "metadata": {
  "kernelspec": {
   "display_name": "Python 3 (ipykernel)",
   "language": "python",
   "name": "python3"
  },
  "language_info": {
   "codemirror_mode": {
    "name": "ipython",
    "version": 3
   },
   "file_extension": ".py",
   "mimetype": "text/x-python",
   "name": "python",
   "nbconvert_exporter": "python",
   "pygments_lexer": "ipython3",
   "version": "3.9.7"
  }
 },
 "nbformat": 4,
 "nbformat_minor": 5
}
