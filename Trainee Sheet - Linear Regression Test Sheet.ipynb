{
 "cells": [
  {
   "cell_type": "markdown",
   "id": "013346cf",
   "metadata": {},
   "source": [
    "# Test Sheet: Predicting Employee Salaries Based on Experience and Education Using Linear Regression"
   ]
  },
  {
   "cell_type": "markdown",
   "id": "aa7816c8",
   "metadata": {},
   "source": [
    "- Objective\n",
    "In this assignment, you will build and evaluate a Linear Regression model to predict employee salaries based on their years of experience and education level. You will use Python's Scikit-Learn library to train the model, assess its performance, and make salary predictions.<br><br>\n",
    "\n",
    "- Scenario\n",
    "A company wants to determine an employee's salary based on their years of experience and education level. The company has historical data on employees’ salaries, experience, and education. Your task is to create a model that accurately predicts employee salaries using this information.<br><br>\n",
    "\n",
    "- Features (Inputs):\n",
    "    - Years of Experience: (e.g., 1, 5, 10, etc.)<br>\n",
    "    - Education Level:<br>\n",
    "        - 1 for Bachelor's<br>\n",
    "        - 2 for Master's<br>\n",
    "        - 3 for PhD<br>\n",
    "- Target (Output):<br>\n",
    "Salary: (continuous value in dollars)<br>\n"
   ]
  },
  {
   "cell_type": "markdown",
   "id": "27b9a1c4",
   "metadata": {},
   "source": [
    "## Instructions\n",
    "### 1. Generate or Load Data:\n",
    "- Generate a synthetic dataset with the following columns:\n",
    "    - experience: Years of experience (integer values, e.g., 1 to 20).\n",
    "    - education_level: Education level (1 for Bachelor's, 2 for Master's, 3 for PhD).\n",
    "    - salary: Continuous salary value (target variable)."
   ]
  },
  {
   "cell_type": "markdown",
   "id": "3bfc0c05",
   "metadata": {},
   "source": [
    "import numpy as np\n",
    "import pandas as pd\n",
    "import matplotlib.pyplot as plt\n",
    "from sklearn.model_selection import train_test_split\n",
    "from sklearn.linear_model import LinearRegression\n",
    "from sklearn.metrics import mean_squared_error, r2_score\n"
   ]
  },
  {
   "cell_type": "code",
   "execution_count": 2,
   "id": "26c53251",
   "metadata": {},
   "outputs": [],
   "source": [
    "import random"
   ]
  },
  {
   "cell_type": "code",
   "execution_count": 9,
   "id": "a253e595",
   "metadata": {},
   "outputs": [
    {
     "name": "stdout",
     "output_type": "stream",
     "text": [
      "   Experience  Education Level        Salary\n",
      "0           9                3  69430.596806\n",
      "1           5                2  42554.479696\n",
      "2           9                3  55328.133732\n",
      "3          15                2  75556.835918\n",
      "4          14                1  68421.954681\n"
     ]
    }
   ],
   "source": [
    "random.seed(42)\n",
    "experience = np.random.randint(1,21, size = 100)\n",
    "\n",
    "edu_lvl = np.random.choice([1,2,3], size = 100, p = [0.5, 0.3, 0.2])\n",
    "\n",
    "avg_sal = 50000\n",
    "std_sal = 15000\n",
    "\n",
    "sal = np.random.normal(avg_sal, std_sal, 100)\n",
    "\n",
    "\n",
    "# create a dataframe \n",
    "df = pd.DataFrame({\n",
    "    'Experience': experience,\n",
    "    'Education Level': edu_lvl,\n",
    "    'Salary': sal\n",
    "})\n",
    "\n",
    "print(df.head())"
   ]
  },
  {
   "cell_type": "markdown",
   "id": "51b8385a",
   "metadata": {},
   "source": [
    "### 2. Data Preprocessing:\n",
    "- Split the dataset into features (experience, education_level) and target (salary).\n",
    "- Perform an 80/20 split to create training and test datasets."
   ]
  },
  {
   "cell_type": "code",
   "execution_count": 11,
   "id": "c3574e14",
   "metadata": {},
   "outputs": [],
   "source": [
    "x = df[['Experience', 'Education Level']]\n",
    "y = df['Salary']\n"
   ]
  },
  {
   "cell_type": "code",
   "execution_count": 12,
   "id": "a699aff4",
   "metadata": {},
   "outputs": [],
   "source": [
    "x_train, x_test, y_train, y_test = train_test_split(x,y, test_size = 0.20, random_state = 42)"
   ]
  },
  {
   "cell_type": "markdown",
   "id": "27965c93",
   "metadata": {},
   "source": [
    "### 3. Train the Linear Regression Model:\n",
    "Train a Linear Regression model on the training data."
   ]
  },
  {
   "cell_type": "code",
   "execution_count": 13,
   "id": "1a006259",
   "metadata": {},
   "outputs": [
    {
     "data": {
      "text/plain": [
       "LinearRegression()"
      ]
     },
     "execution_count": 13,
     "metadata": {},
     "output_type": "execute_result"
    }
   ],
   "source": [
    "model = LinearRegression()\n",
    "model.fit(x_train, y_train)"
   ]
  },
  {
   "cell_type": "code",
   "execution_count": 15,
   "id": "5906e113",
   "metadata": {},
   "outputs": [],
   "source": [
    "y_pred = model.predict(x_test)"
   ]
  },
  {
   "cell_type": "markdown",
   "id": "edba3d66",
   "metadata": {},
   "source": [
    "### 4. Evaluate the Model:\n",
    "Evaluate the model on the test data using \n",
    "- Mean Squared Error (MSE) and \n",
    "- R-squared (R²) values."
   ]
  },
  {
   "cell_type": "code",
   "execution_count": 16,
   "id": "3c7d7230",
   "metadata": {},
   "outputs": [
    {
     "name": "stdout",
     "output_type": "stream",
     "text": [
      "Mean Squared Error: 201770678.33644727\n",
      "R-squared Value: -0.07726813389447251\n"
     ]
    }
   ],
   "source": [
    "mse = mean_squared_error(y_test, y_pred)\n",
    "r2 = r2_score(y_test, y_pred)\n",
    "print(f\"Mean Squared Error: {mse}\")\n",
    "print(f\"R-squared Value: {r2}\")"
   ]
  },
  {
   "cell_type": "markdown",
   "id": "63fa2d62",
   "metadata": {},
   "source": [
    "### 5. Make Predictions:\n",
    "- Use the trained model to predict the salary of a new employee.\n",
    "- Example: Predict the salary for an employee with 7 years of experience and a Master's degree (education level = 2)."
   ]
  },
  {
   "cell_type": "code",
   "execution_count": 17,
   "id": "c39e01e7",
   "metadata": {},
   "outputs": [
    {
     "data": {
      "text/plain": [
       "array([53073.33489501])"
      ]
     },
     "execution_count": 17,
     "metadata": {},
     "output_type": "execute_result"
    }
   ],
   "source": [
    "new_employee = [[7, 2]]\n",
    "new_employee_Salary = model.predict(new_employee)\n",
    "new_employee_Salary"
   ]
  },
  {
   "cell_type": "markdown",
   "id": "6bba5233",
   "metadata": {},
   "source": [
    "### 6. Visualizations (Optional):\n",
    "- Create scatter plots to visualize the relationship between experience, education, and salary.\n",
    "- Plot the model's predictions against the actual salary data.\n"
   ]
  },
  {
   "cell_type": "code",
   "execution_count": 19,
   "id": "e4e4ca0d",
   "metadata": {},
   "outputs": [
    {
     "data": {
      "image/png": "[encoded data removed]",
      "text/plain": [
       "<Figure size 432x288 with 1 Axes>"
      ]
     },
     "metadata": {
      "needs_background": "light"
     },
     "output_type": "display_data"
    }
   ],
   "source": [
    "plt.scatter(df['Experience'], df['Salary'], color = 'blue', label = 'Actual')\n",
    "plt.plot(df['Experience'], model.predict(x), color = 'red', label = 'Predicted')\n",
    "plt.xlabel('Experience(Years)')\n",
    "plt.ylabel('Salary ($)')\n",
    "plt.title('Salary Vs Experience')\n",
    "plt.legend()\n",
    "plt.show()"
   ]
  }
 ],
 "metadata": {
  "kernelspec": {
   "display_name": "Python 3 (ipykernel)",
   "language": "python",
   "name": "python3"
  },
  "language_info": {
   "codemirror_mode": {
    "name": "ipython",
    "version": 3
   },
   "file_extension": ".py",
   "mimetype": "text/x-python",
   "name": "python",
   "nbconvert_exporter": "python",
   "pygments_lexer": "ipython3",
   "version": "3.9.7"
  }
 },
 "nbformat": 4,
 "nbformat_minor": 5
}
