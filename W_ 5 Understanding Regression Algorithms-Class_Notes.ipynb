{
 "cells": [
  {
   "cell_type": "markdown",
   "id": "5b2e2950",
   "metadata": {},
   "source": [
    "# Understanding Regression Algorithms"
   ]
  },
  {
   "cell_type": "markdown",
   "id": "e5938b7c",
   "metadata": {},
   "source": [
    "### Scenario: Predicting patient charges Based on age, sex, bmi, children and region"
   ]
  },
  {
   "cell_type": "code",
   "execution_count": 14,
   "id": "923d75d6",
   "metadata": {},
   "outputs": [],
   "source": [
    "# Import necessary libraries\n",
    "import numpy as np\n",
    "import pandas as pd\n",
    "import matplotlib.pyplot as plt\n",
    "\n",
    "from sklearn.model_selection import train_test_split\n",
    "from sklearn.linear_model import LinearRegression\n",
    "from sklearn.metrics import mean_squared_error, r2_score"
   ]
  },
  {
   "cell_type": "markdown",
   "id": "4710670f",
   "metadata": {},
   "source": [
    "1. Dataset Creation:\n",
    "\n",
    "We create a simple synthetic dataset with columns for Experience, Education_Level (Bachelor's, Master's, or PhD), and Salary.\n"
   ]
  },
  {
   "cell_type": "code",
   "execution_count": 15,
   "id": "f641794c",
   "metadata": {},
   "outputs": [
    {
     "data": {
      "text/html": [
       "<div>\n",
       "<style scoped>\n",
       "    .dataframe tbody tr th:only-of-type {\n",
       "        vertical-align: middle;\n",
       "    }\n",
       "\n",
       "    .dataframe tbody tr th {\n",
       "        vertical-align: top;\n",
       "    }\n",
       "\n",
       "    .dataframe thead th {\n",
       "        text-align: right;\n",
       "    }\n",
       "</style>\n",
       "<table border=\"1\" class=\"dataframe\">\n",
       "  <thead>\n",
       "    <tr style=\"text-align: right;\">\n",
       "      <th></th>\n",
       "      <th>age</th>\n",
       "      <th>sex</th>\n",
       "      <th>bmi</th>\n",
       "      <th>children</th>\n",
       "      <th>smoker</th>\n",
       "      <th>region</th>\n",
       "      <th>charges</th>\n",
       "    </tr>\n",
       "  </thead>\n",
       "  <tbody>\n",
       "    <tr>\n",
       "      <th>0</th>\n",
       "      <td>19</td>\n",
       "      <td>female</td>\n",
       "      <td>27.900</td>\n",
       "      <td>0</td>\n",
       "      <td>yes</td>\n",
       "      <td>southwest</td>\n",
       "      <td>16884.92400</td>\n",
       "    </tr>\n",
       "    <tr>\n",
       "      <th>1</th>\n",
       "      <td>18</td>\n",
       "      <td>male</td>\n",
       "      <td>33.770</td>\n",
       "      <td>1</td>\n",
       "      <td>no</td>\n",
       "      <td>southeast</td>\n",
       "      <td>1725.55230</td>\n",
       "    </tr>\n",
       "    <tr>\n",
       "      <th>2</th>\n",
       "      <td>28</td>\n",
       "      <td>male</td>\n",
       "      <td>33.000</td>\n",
       "      <td>3</td>\n",
       "      <td>no</td>\n",
       "      <td>southeast</td>\n",
       "      <td>4449.46200</td>\n",
       "    </tr>\n",
       "    <tr>\n",
       "      <th>3</th>\n",
       "      <td>33</td>\n",
       "      <td>male</td>\n",
       "      <td>22.705</td>\n",
       "      <td>0</td>\n",
       "      <td>no</td>\n",
       "      <td>northwest</td>\n",
       "      <td>21984.47061</td>\n",
       "    </tr>\n",
       "    <tr>\n",
       "      <th>4</th>\n",
       "      <td>32</td>\n",
       "      <td>male</td>\n",
       "      <td>28.880</td>\n",
       "      <td>0</td>\n",
       "      <td>no</td>\n",
       "      <td>northwest</td>\n",
       "      <td>3866.85520</td>\n",
       "    </tr>\n",
       "  </tbody>\n",
       "</table>\n",
       "</div>"
      ],
      "text/plain": [
       "   age     sex     bmi  children smoker     region      charges\n",
       "0   19  female  27.900         0    yes  southwest  16884.92400\n",
       "1   18    male  33.770         1     no  southeast   1725.55230\n",
       "2   28    male  33.000         3     no  southeast   4449.46200\n",
       "3   33    male  22.705         0     no  northwest  21984.47061\n",
       "4   32    male  28.880         0     no  northwest   3866.85520"
      ]
     },
     "execution_count": 15,
     "metadata": {},
     "output_type": "execute_result"
    }
   ],
   "source": [
    "# Imported the dataset from kaggle open source datasets\n",
    "\n",
    "df = pd.read_csv(\"insurance.csv\")\n",
    "df.head()"
   ]
  },
  {
   "cell_type": "code",
   "execution_count": 16,
   "id": "0af9373c",
   "metadata": {},
   "outputs": [
    {
     "name": "stdout",
     "output_type": "stream",
     "text": [
      "<class 'pandas.core.frame.DataFrame'>\n",
      "RangeIndex: 1338 entries, 0 to 1337\n",
      "Data columns (total 7 columns):\n",
      " #   Column    Non-Null Count  Dtype  \n",
      "---  ------    --------------  -----  \n",
      " 0   age       1338 non-null   int64  \n",
      " 1   sex       1338 non-null   object \n",
      " 2   bmi       1338 non-null   float64\n",
      " 3   children  1338 non-null   int64  \n",
      " 4   smoker    1338 non-null   object \n",
      " 5   region    1338 non-null   object \n",
      " 6   charges   1338 non-null   float64\n",
      "dtypes: float64(2), int64(2), object(3)\n",
      "memory usage: 73.3+ KB\n"
     ]
    }
   ],
   "source": [
    "# print the information of datasets \n",
    "\n",
    "df.info()"
   ]
  },
  {
   "cell_type": "code",
   "execution_count": 17,
   "id": "008ade4a",
   "metadata": {},
   "outputs": [
    {
     "data": {
      "text/plain": [
       "array(['southwest', 'southeast', 'northwest', 'northeast'], dtype=object)"
      ]
     },
     "execution_count": 17,
     "metadata": {},
     "output_type": "execute_result"
    }
   ],
   "source": [
    "# display the unique content of the region column \n",
    "df['region'].unique()"
   ]
  },
  {
   "cell_type": "code",
   "execution_count": 18,
   "id": "8fa61d2e",
   "metadata": {},
   "outputs": [
    {
     "data": {
      "text/html": [
       "<div>\n",
       "<style scoped>\n",
       "    .dataframe tbody tr th:only-of-type {\n",
       "        vertical-align: middle;\n",
       "    }\n",
       "\n",
       "    .dataframe tbody tr th {\n",
       "        vertical-align: top;\n",
       "    }\n",
       "\n",
       "    .dataframe thead th {\n",
       "        text-align: right;\n",
       "    }\n",
       "</style>\n",
       "<table border=\"1\" class=\"dataframe\">\n",
       "  <thead>\n",
       "    <tr style=\"text-align: right;\">\n",
       "      <th></th>\n",
       "      <th>age</th>\n",
       "      <th>sex</th>\n",
       "      <th>bmi</th>\n",
       "      <th>children</th>\n",
       "      <th>smoker</th>\n",
       "      <th>region</th>\n",
       "      <th>charges</th>\n",
       "    </tr>\n",
       "  </thead>\n",
       "  <tbody>\n",
       "    <tr>\n",
       "      <th>0</th>\n",
       "      <td>19</td>\n",
       "      <td>1</td>\n",
       "      <td>27.900</td>\n",
       "      <td>0</td>\n",
       "      <td>1</td>\n",
       "      <td>1</td>\n",
       "      <td>16884.92400</td>\n",
       "    </tr>\n",
       "    <tr>\n",
       "      <th>1</th>\n",
       "      <td>18</td>\n",
       "      <td>0</td>\n",
       "      <td>33.770</td>\n",
       "      <td>1</td>\n",
       "      <td>0</td>\n",
       "      <td>2</td>\n",
       "      <td>1725.55230</td>\n",
       "    </tr>\n",
       "    <tr>\n",
       "      <th>2</th>\n",
       "      <td>28</td>\n",
       "      <td>0</td>\n",
       "      <td>33.000</td>\n",
       "      <td>3</td>\n",
       "      <td>0</td>\n",
       "      <td>2</td>\n",
       "      <td>4449.46200</td>\n",
       "    </tr>\n",
       "    <tr>\n",
       "      <th>3</th>\n",
       "      <td>33</td>\n",
       "      <td>0</td>\n",
       "      <td>22.705</td>\n",
       "      <td>0</td>\n",
       "      <td>0</td>\n",
       "      <td>3</td>\n",
       "      <td>21984.47061</td>\n",
       "    </tr>\n",
       "  </tbody>\n",
       "</table>\n",
       "</div>"
      ],
      "text/plain": [
       "   age  sex     bmi  children  smoker  region      charges\n",
       "0   19    1  27.900         0       1       1  16884.92400\n",
       "1   18    0  33.770         1       0       2   1725.55230\n",
       "2   28    0  33.000         3       0       2   4449.46200\n",
       "3   33    0  22.705         0       0       3  21984.47061"
      ]
     },
     "execution_count": 18,
     "metadata": {},
     "output_type": "execute_result"
    }
   ],
   "source": [
    "# changing the object datatypes to integer \n",
    "\n",
    "df['sex'] = df['sex'].map({'female': 1, 'male': 0}) # Assigning female =1, male = 0\n",
    "df['smoker'] = df['smoker'].map({'yes':1, 'no': 0}) # Assigning yes = 1, no = 0\n",
    "df['region'] = df['region'].map({'southwest':1, 'southeast': 2, 'northwest':3, 'northeast': 4}) # Assigning southwest =1, southeast = 2, northwest =3, northeast = 4\n",
    "df.head(4)"
   ]
  },
  {
   "cell_type": "markdown",
   "id": "1e23f39d",
   "metadata": {},
   "source": [
    "2. Data Preprocessing:\n",
    "\n",
    "We split the dataset into features (age, sex, bmi, children, smoker, region) and the target variable (charges).\n",
    "We then split the dataset into training and test sets to train the model on one part of the data and test its performance on unseen data."
   ]
  },
  {
   "cell_type": "code",
   "execution_count": 19,
   "id": "593ce287",
   "metadata": {},
   "outputs": [],
   "source": [
    "# Data Preprocessing (In this case, the data is already clean)\n",
    "x = df[['age', 'sex','bmi','children', 'smoker', 'region']]\n",
    "y = df['charges']\n"
   ]
  },
  {
   "cell_type": "code",
   "execution_count": 20,
   "id": "d3e75ef9",
   "metadata": {},
   "outputs": [],
   "source": [
    "# Split the data into training and test set( 80% training, 20% testing)\n",
    "x_train, x_test, y_train, y_test = train_test_split(x, y, test_size =0.20, random_state = 42)"
   ]
  },
  {
   "cell_type": "markdown",
   "id": "43c42077",
   "metadata": {},
   "source": [
    "3. Model Training:\n",
    "\n",
    "We use Linear Regression, which is part of Scikit-Learn, to train our model on the training data."
   ]
  },
  {
   "cell_type": "code",
   "execution_count": 21,
   "id": "7219464d",
   "metadata": {},
   "outputs": [
    {
     "data": {
      "text/plain": [
       "LinearRegression()"
      ]
     },
     "execution_count": 21,
     "metadata": {},
     "output_type": "execute_result"
    }
   ],
   "source": [
    "# Train a Linear Regression Model\n",
    "model = LinearRegression()\n",
    "model.fit(x_train, y_train)"
   ]
  },
  {
   "cell_type": "markdown",
   "id": "099d17a9",
   "metadata": {},
   "source": [
    "4. Model Evaluation:\n",
    "\n",
    "We calculate the Mean Squared Error (MSE) and R-squared (R²) value to evaluate how well the model is predicting salaries.\n",
    "The R-squared value indicates how much of the variance in the dependent variable (salary) is explained by the independent variables (experience and education level). An R² value close to 1 means a good fit."
   ]
  },
  {
   "cell_type": "code",
   "execution_count": 22,
   "id": "3987626c",
   "metadata": {},
   "outputs": [],
   "source": [
    "# Evaluate the Model\n",
    "y_pred = model.predict(x_test)"
   ]
  },
  {
   "cell_type": "code",
   "execution_count": 23,
   "id": "0fb69da9",
   "metadata": {},
   "outputs": [
    {
     "name": "stdout",
     "output_type": "stream",
     "text": [
      "Mean Squared Error: 33635210.431178406\n",
      "R-Squared Value: 0.7833463107364539\n"
     ]
    }
   ],
   "source": [
    "# Calculate the Mean Squared Error and R-Squared\n",
    "mse = mean_squared_error(y_test, y_pred)\n",
    "r2 = r2_score(y_test, y_pred)\n",
    "\n",
    "print(f\"Mean Squared Error: {mse}\")\n",
    "print(f\"R-Squared Value: {r2}\")\n"
   ]
  },
  {
   "cell_type": "markdown",
   "id": "3d9b3209",
   "metadata": {},
   "source": [
    "5. Prediction:\n",
    "\n",
    "We use the trained model to a 34 years, male, bmi = 33 with 2 children, smoker from northwest. The predicted charges is displayed."
   ]
  },
  {
   "cell_type": "code",
   "execution_count": 26,
   "id": "0fedfc8e",
   "metadata": {},
   "outputs": [
    {
     "name": "stdout",
     "output_type": "stream",
     "text": [
      "Predicted charges of a male patient of 34 age with BMI 33,smoker have 2 children from northwest: $32,082.02\n"
     ]
    }
   ],
   "source": [
    "# Make predictions for a new Data \n",
    "\n",
    "new_patient = [[34, 0, 33, 2, 1, 3]]\n",
    "predicted_charges = model.predict(new_patient)\n",
    "print(f\"Predicted charges of a male patient of 34 age with BMI 33,smoker have 2 children from northwest: ${predicted_charges[0]:,.2f}\") "
   ]
  },
  {
   "cell_type": "code",
   "execution_count": null,
   "id": "0244b911",
   "metadata": {},
   "outputs": [],
   "source": []
  }
 ],
 "metadata": {
  "kernelspec": {
   "display_name": "Python 3 (ipykernel)",
   "language": "python",
   "name": "python3"
  },
  "language_info": {
   "codemirror_mode": {
    "name": "ipython",
    "version": 3
   },
   "file_extension": ".py",
   "mimetype": "text/x-python",
   "name": "python",
   "nbconvert_exporter": "python",
   "pygments_lexer": "ipython3",
   "version": "3.9.7"
  }
 },
 "nbformat": 4,
 "nbformat_minor": 5
}
