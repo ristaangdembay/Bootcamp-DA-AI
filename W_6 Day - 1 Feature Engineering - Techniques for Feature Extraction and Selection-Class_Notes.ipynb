{
 "cells": [
  {
   "cell_type": "markdown",
   "id": "91d50573",
   "metadata": {},
   "source": [
    "# Feature Engineering: Techniques for Feature Extraction and Selection"
   ]
  },
  {
   "cell_type": "markdown",
   "id": "9b2c40c7",
   "metadata": {},
   "source": [
    "## Introduction"
   ]
  },
  {
   "cell_type": "markdown",
   "id": "0ffdd583",
   "metadata": {},
   "source": [
    "Feature engineering is the process of \n",
    "- selecting, \n",
    "- modifying, or \n",
    "- creating features (variables) from raw data to improve the performance of machine learning models. \n",
    "\n",
    "Well-crafted features often lead to better model accuracy and generalization. It involves both feature extraction and feature selection."
   ]
  },
  {
   "cell_type": "markdown",
   "id": "34313b07",
   "metadata": {},
   "source": [
    "## 1. Feature Extraction"
   ]
  },
  {
   "cell_type": "markdown",
   "id": "665c5951",
   "metadata": {},
   "source": [
    "This involves transforming raw data into features that can be used for machine learning models. Often, domain knowledge is used to create relevant features."
   ]
  },
  {
   "cell_type": "markdown",
   "id": "a1cafe2d",
   "metadata": {},
   "source": [
    "## 2. Feature Selection"
   ]
  },
  {
   "cell_type": "markdown",
   "id": "e4ec36a7",
   "metadata": {},
   "source": [
    "This process involves selecting the most important features from the available features, which can reduce model complexity and prevent overfitting.\n",
    "\n",
    "--> Overfitting and Underfitting. --> Pending"
   ]
  },
  {
   "cell_type": "markdown",
   "id": "4b8e759c",
   "metadata": {},
   "source": [
    "## 1. Feature Extraction"
   ]
  },
  {
   "cell_type": "markdown",
   "id": "765884db",
   "metadata": {},
   "source": [
    "### 1.1. Handling Date/Time Data\n",
    "<b>Real-time example:</b> A company wants to predict the number of bike rentals on any given day using a historical dataset containing rental data.\n",
    "\n",
    "<b>Scenario:</b>\n",
    "\n",
    "- Dataset contains a column called date_time, which includes the full timestamp of each rental.\n",
    "- Raw timestamp may not be useful directly, so we extract useful information like the day, month, hour, etc."
   ]
  },
  {
   "cell_type": "code",
   "execution_count": 11,
   "id": "55d4d5ab",
   "metadata": {},
   "outputs": [
    {
     "data": {
      "text/html": [
       "<div>\n",
       "<style scoped>\n",
       "    .dataframe tbody tr th:only-of-type {\n",
       "        vertical-align: middle;\n",
       "    }\n",
       "\n",
       "    .dataframe tbody tr th {\n",
       "        vertical-align: top;\n",
       "    }\n",
       "\n",
       "    .dataframe thead th {\n",
       "        text-align: right;\n",
       "    }\n",
       "</style>\n",
       "<table border=\"1\" class=\"dataframe\">\n",
       "  <thead>\n",
       "    <tr style=\"text-align: right;\">\n",
       "      <th></th>\n",
       "      <th>date_time</th>\n",
       "    </tr>\n",
       "  </thead>\n",
       "  <tbody>\n",
       "    <tr>\n",
       "      <th>0</th>\n",
       "      <td>2024-08-15 08:00:00</td>\n",
       "    </tr>\n",
       "    <tr>\n",
       "      <th>1</th>\n",
       "      <td>2024-08-16 14:30:00</td>\n",
       "    </tr>\n",
       "    <tr>\n",
       "      <th>2</th>\n",
       "      <td>2024-08-17 19:45:00</td>\n",
       "    </tr>\n",
       "  </tbody>\n",
       "</table>\n",
       "</div>"
      ],
      "text/plain": [
       "             date_time\n",
       "0  2024-08-15 08:00:00\n",
       "1  2024-08-16 14:30:00\n",
       "2  2024-08-17 19:45:00"
      ]
     },
     "execution_count": 11,
     "metadata": {},
     "output_type": "execute_result"
    }
   ],
   "source": [
    "import pandas as pd\n",
    "\n",
    "# Sample data\n",
    "data = {'date_time': ['2024-08-15 08:00:00', '2024-08-16 14:30:00', '2024-08-17 19:45:00']}\n",
    "df = pd.DataFrame(data)\n",
    "df"
   ]
  },
  {
   "cell_type": "code",
   "execution_count": 1,
   "id": "58fc591a",
   "metadata": {},
   "outputs": [
    {
     "data": {
      "text/html": [
       "<div>\n",
       "<style scoped>\n",
       "    .dataframe tbody tr th:only-of-type {\n",
       "        vertical-align: middle;\n",
       "    }\n",
       "\n",
       "    .dataframe tbody tr th {\n",
       "        vertical-align: top;\n",
       "    }\n",
       "\n",
       "    .dataframe thead th {\n",
       "        text-align: right;\n",
       "    }\n",
       "</style>\n",
       "<table border=\"1\" class=\"dataframe\">\n",
       "  <thead>\n",
       "    <tr style=\"text-align: right;\">\n",
       "      <th></th>\n",
       "      <th>date_time</th>\n",
       "    </tr>\n",
       "  </thead>\n",
       "  <tbody>\n",
       "    <tr>\n",
       "      <th>0</th>\n",
       "      <td>2024-08-15 08:00:00</td>\n",
       "    </tr>\n",
       "    <tr>\n",
       "      <th>1</th>\n",
       "      <td>2024-08-16 14:30:00</td>\n",
       "    </tr>\n",
       "    <tr>\n",
       "      <th>2</th>\n",
       "      <td>2024-08-17 19:45:00</td>\n",
       "    </tr>\n",
       "  </tbody>\n",
       "</table>\n",
       "</div>"
      ],
      "text/plain": [
       "             date_time\n",
       "0  2024-08-15 08:00:00\n",
       "1  2024-08-16 14:30:00\n",
       "2  2024-08-17 19:45:00"
      ]
     },
     "execution_count": 1,
     "metadata": {},
     "output_type": "execute_result"
    }
   ],
   "source": [
    "import pandas as pd\n",
    "\n",
    "#sample Data \n",
    "data = {'date_time': ['2024-08-15 08:00:00', '2024-08-16 14:30:00', '2024-08-17 19:45:00']}\n",
    "df = pd.DataFrame(data)\n",
    "df"
   ]
  },
  {
   "cell_type": "code",
   "execution_count": 12,
   "id": "9f06cf56",
   "metadata": {},
   "outputs": [
    {
     "data": {
      "text/html": [
       "<div>\n",
       "<style scoped>\n",
       "    .dataframe tbody tr th:only-of-type {\n",
       "        vertical-align: middle;\n",
       "    }\n",
       "\n",
       "    .dataframe tbody tr th {\n",
       "        vertical-align: top;\n",
       "    }\n",
       "\n",
       "    .dataframe thead th {\n",
       "        text-align: right;\n",
       "    }\n",
       "</style>\n",
       "<table border=\"1\" class=\"dataframe\">\n",
       "  <thead>\n",
       "    <tr style=\"text-align: right;\">\n",
       "      <th></th>\n",
       "      <th>date_time</th>\n",
       "    </tr>\n",
       "  </thead>\n",
       "  <tbody>\n",
       "    <tr>\n",
       "      <th>0</th>\n",
       "      <td>2024-08-15 08:00:00</td>\n",
       "    </tr>\n",
       "    <tr>\n",
       "      <th>1</th>\n",
       "      <td>2024-08-16 14:30:00</td>\n",
       "    </tr>\n",
       "    <tr>\n",
       "      <th>2</th>\n",
       "      <td>2024-08-17 19:45:00</td>\n",
       "    </tr>\n",
       "  </tbody>\n",
       "</table>\n",
       "</div>"
      ],
      "text/plain": [
       "            date_time\n",
       "0 2024-08-15 08:00:00\n",
       "1 2024-08-16 14:30:00\n",
       "2 2024-08-17 19:45:00"
      ]
     },
     "execution_count": 12,
     "metadata": {},
     "output_type": "execute_result"
    }
   ],
   "source": [
    "# Convert to datetime object\n",
    "df['date_time'] = pd.to_datetime(df['date_time'])\n",
    "df"
   ]
  },
  {
   "cell_type": "code",
   "execution_count": 3,
   "id": "a1763787",
   "metadata": {},
   "outputs": [
    {
     "data": {
      "text/html": [
       "<div>\n",
       "<style scoped>\n",
       "    .dataframe tbody tr th:only-of-type {\n",
       "        vertical-align: middle;\n",
       "    }\n",
       "\n",
       "    .dataframe tbody tr th {\n",
       "        vertical-align: top;\n",
       "    }\n",
       "\n",
       "    .dataframe thead th {\n",
       "        text-align: right;\n",
       "    }\n",
       "</style>\n",
       "<table border=\"1\" class=\"dataframe\">\n",
       "  <thead>\n",
       "    <tr style=\"text-align: right;\">\n",
       "      <th></th>\n",
       "      <th>date_time</th>\n",
       "    </tr>\n",
       "  </thead>\n",
       "  <tbody>\n",
       "    <tr>\n",
       "      <th>0</th>\n",
       "      <td>2024-08-15 08:00:00</td>\n",
       "    </tr>\n",
       "    <tr>\n",
       "      <th>1</th>\n",
       "      <td>2024-08-16 14:30:00</td>\n",
       "    </tr>\n",
       "    <tr>\n",
       "      <th>2</th>\n",
       "      <td>2024-08-17 19:45:00</td>\n",
       "    </tr>\n",
       "  </tbody>\n",
       "</table>\n",
       "</div>"
      ],
      "text/plain": [
       "            date_time\n",
       "0 2024-08-15 08:00:00\n",
       "1 2024-08-16 14:30:00\n",
       "2 2024-08-17 19:45:00"
      ]
     },
     "execution_count": 3,
     "metadata": {},
     "output_type": "execute_result"
    }
   ],
   "source": [
    "# Convert to datetime object \n",
    "df['date_time'] = pd.to_datetime(df['date_time'])\n",
    "df"
   ]
  },
  {
   "cell_type": "code",
   "execution_count": 14,
   "id": "242ba995",
   "metadata": {},
   "outputs": [
    {
     "data": {
      "text/html": [
       "<div>\n",
       "<style scoped>\n",
       "    .dataframe tbody tr th:only-of-type {\n",
       "        vertical-align: middle;\n",
       "    }\n",
       "\n",
       "    .dataframe tbody tr th {\n",
       "        vertical-align: top;\n",
       "    }\n",
       "\n",
       "    .dataframe thead th {\n",
       "        text-align: right;\n",
       "    }\n",
       "</style>\n",
       "<table border=\"1\" class=\"dataframe\">\n",
       "  <thead>\n",
       "    <tr style=\"text-align: right;\">\n",
       "      <th></th>\n",
       "      <th>date_time</th>\n",
       "      <th>day</th>\n",
       "      <th>month</th>\n",
       "      <th>hour</th>\n",
       "      <th>day_of_week</th>\n",
       "    </tr>\n",
       "  </thead>\n",
       "  <tbody>\n",
       "    <tr>\n",
       "      <th>0</th>\n",
       "      <td>2024-08-15 08:00:00</td>\n",
       "      <td>15</td>\n",
       "      <td>8</td>\n",
       "      <td>8</td>\n",
       "      <td>3</td>\n",
       "    </tr>\n",
       "    <tr>\n",
       "      <th>1</th>\n",
       "      <td>2024-08-16 14:30:00</td>\n",
       "      <td>16</td>\n",
       "      <td>8</td>\n",
       "      <td>14</td>\n",
       "      <td>4</td>\n",
       "    </tr>\n",
       "    <tr>\n",
       "      <th>2</th>\n",
       "      <td>2024-08-17 19:45:00</td>\n",
       "      <td>17</td>\n",
       "      <td>8</td>\n",
       "      <td>19</td>\n",
       "      <td>5</td>\n",
       "    </tr>\n",
       "  </tbody>\n",
       "</table>\n",
       "</div>"
      ],
      "text/plain": [
       "            date_time  day  month  hour  day_of_week\n",
       "0 2024-08-15 08:00:00   15      8     8            3\n",
       "1 2024-08-16 14:30:00   16      8    14            4\n",
       "2 2024-08-17 19:45:00   17      8    19            5"
      ]
     },
     "execution_count": 14,
     "metadata": {},
     "output_type": "execute_result"
    }
   ],
   "source": [
    "# Feature Extraction: Extracting day, month, hour, and day of the week\n",
    "df['day'] = df['date_time'].dt.day\n",
    "df['month'] = df['date_time'].dt.month\n",
    "df['hour'] = df['date_time'].dt.hour\n",
    "df['day_of_week'] = df['date_time'].dt.dayofweek\n",
    "\n",
    "# Display the dataframe\n",
    "# print(df)\n",
    "df"
   ]
  },
  {
   "cell_type": "code",
   "execution_count": 4,
   "id": "b74c08a6",
   "metadata": {},
   "outputs": [
    {
     "data": {
      "text/html": [
       "<div>\n",
       "<style scoped>\n",
       "    .dataframe tbody tr th:only-of-type {\n",
       "        vertical-align: middle;\n",
       "    }\n",
       "\n",
       "    .dataframe tbody tr th {\n",
       "        vertical-align: top;\n",
       "    }\n",
       "\n",
       "    .dataframe thead th {\n",
       "        text-align: right;\n",
       "    }\n",
       "</style>\n",
       "<table border=\"1\" class=\"dataframe\">\n",
       "  <thead>\n",
       "    <tr style=\"text-align: right;\">\n",
       "      <th></th>\n",
       "      <th>date_time</th>\n",
       "      <th>day</th>\n",
       "      <th>month</th>\n",
       "      <th>hour</th>\n",
       "      <th>day_of_week</th>\n",
       "    </tr>\n",
       "  </thead>\n",
       "  <tbody>\n",
       "    <tr>\n",
       "      <th>0</th>\n",
       "      <td>2024-08-15 08:00:00</td>\n",
       "      <td>15</td>\n",
       "      <td>8</td>\n",
       "      <td>8</td>\n",
       "      <td>3</td>\n",
       "    </tr>\n",
       "    <tr>\n",
       "      <th>1</th>\n",
       "      <td>2024-08-16 14:30:00</td>\n",
       "      <td>16</td>\n",
       "      <td>8</td>\n",
       "      <td>14</td>\n",
       "      <td>4</td>\n",
       "    </tr>\n",
       "    <tr>\n",
       "      <th>2</th>\n",
       "      <td>2024-08-17 19:45:00</td>\n",
       "      <td>17</td>\n",
       "      <td>8</td>\n",
       "      <td>19</td>\n",
       "      <td>5</td>\n",
       "    </tr>\n",
       "  </tbody>\n",
       "</table>\n",
       "</div>"
      ],
      "text/plain": [
       "            date_time  day  month  hour  day_of_week\n",
       "0 2024-08-15 08:00:00   15      8     8            3\n",
       "1 2024-08-16 14:30:00   16      8    14            4\n",
       "2 2024-08-17 19:45:00   17      8    19            5"
      ]
     },
     "execution_count": 4,
     "metadata": {},
     "output_type": "execute_result"
    }
   ],
   "source": [
    "# Feature Extraction : Extarcting day, month, hour, and day of the week\n",
    "\n",
    "df['day'] = df['date_time'].dt.day\n",
    "df['month'] = df['date_time'].dt.month\n",
    "df['hour'] = df['date_time'].dt.hour\n",
    "df['day_of_week'] = df['date_time'].dt.dayofweek\n",
    "\n",
    "# Display the dataframe \n",
    "df"
   ]
  },
  {
   "cell_type": "markdown",
   "id": "f031957d",
   "metadata": {},
   "source": [
    "<b>Explanation:</b>\n",
    "\n",
    "- Here, we extract multiple features from a single date_time column such as day, month, hour, and day_of_week.\n",
    "- These extracted features could help the model better understand patterns related to time, such as peak hours or specific days."
   ]
  },
  {
   "cell_type": "markdown",
   "id": "974e31d7",
   "metadata": {},
   "source": [
    "### 1.2. Handling Categorical Variables (One-Hot Encoding)\n",
    "<b>Real-time example:</b> A company wants to predict customer churn based on various customer attributes, one of which is the subscription_plan (Basic, Standard, Premium).\n",
    "\n",
    "<b>Scenario:</b>\n",
    "\n",
    "- Machine learning algorithms cannot work with categorical text data directly, so we need to convert categorical variables into numerical values.\n",
    "- One-Hot Encoding is commonly used for categorical variables."
   ]
  },
  {
   "cell_type": "code",
   "execution_count": 16,
   "id": "5a0b3ab4",
   "metadata": {},
   "outputs": [
    {
     "data": {
      "text/html": [
       "<div>\n",
       "<style scoped>\n",
       "    .dataframe tbody tr th:only-of-type {\n",
       "        vertical-align: middle;\n",
       "    }\n",
       "\n",
       "    .dataframe tbody tr th {\n",
       "        vertical-align: top;\n",
       "    }\n",
       "\n",
       "    .dataframe thead th {\n",
       "        text-align: right;\n",
       "    }\n",
       "</style>\n",
       "<table border=\"1\" class=\"dataframe\">\n",
       "  <thead>\n",
       "    <tr style=\"text-align: right;\">\n",
       "      <th></th>\n",
       "      <th>subscription_plan</th>\n",
       "    </tr>\n",
       "  </thead>\n",
       "  <tbody>\n",
       "    <tr>\n",
       "      <th>0</th>\n",
       "      <td>Basic</td>\n",
       "    </tr>\n",
       "    <tr>\n",
       "      <th>1</th>\n",
       "      <td>Premium</td>\n",
       "    </tr>\n",
       "    <tr>\n",
       "      <th>2</th>\n",
       "      <td>Standard</td>\n",
       "    </tr>\n",
       "    <tr>\n",
       "      <th>3</th>\n",
       "      <td>Premium</td>\n",
       "    </tr>\n",
       "    <tr>\n",
       "      <th>4</th>\n",
       "      <td>Basic</td>\n",
       "    </tr>\n",
       "  </tbody>\n",
       "</table>\n",
       "</div>"
      ],
      "text/plain": [
       "  subscription_plan\n",
       "0             Basic\n",
       "1           Premium\n",
       "2          Standard\n",
       "3           Premium\n",
       "4             Basic"
      ]
     },
     "execution_count": 16,
     "metadata": {},
     "output_type": "execute_result"
    }
   ],
   "source": [
    "# Sample data\n",
    "data = {'subscription_plan': ['Basic', 'Premium', 'Standard', 'Premium', 'Basic']}\n",
    "df = pd.DataFrame(data)\n",
    "df"
   ]
  },
  {
   "cell_type": "code",
   "execution_count": 6,
   "id": "d63e5903",
   "metadata": {},
   "outputs": [
    {
     "data": {
      "text/html": [
       "<div>\n",
       "<style scoped>\n",
       "    .dataframe tbody tr th:only-of-type {\n",
       "        vertical-align: middle;\n",
       "    }\n",
       "\n",
       "    .dataframe tbody tr th {\n",
       "        vertical-align: top;\n",
       "    }\n",
       "\n",
       "    .dataframe thead th {\n",
       "        text-align: right;\n",
       "    }\n",
       "</style>\n",
       "<table border=\"1\" class=\"dataframe\">\n",
       "  <thead>\n",
       "    <tr style=\"text-align: right;\">\n",
       "      <th></th>\n",
       "      <th>subscription_plan</th>\n",
       "    </tr>\n",
       "  </thead>\n",
       "  <tbody>\n",
       "    <tr>\n",
       "      <th>0</th>\n",
       "      <td>Basic</td>\n",
       "    </tr>\n",
       "    <tr>\n",
       "      <th>1</th>\n",
       "      <td>Premium</td>\n",
       "    </tr>\n",
       "    <tr>\n",
       "      <th>2</th>\n",
       "      <td>Standard</td>\n",
       "    </tr>\n",
       "    <tr>\n",
       "      <th>3</th>\n",
       "      <td>Premium</td>\n",
       "    </tr>\n",
       "    <tr>\n",
       "      <th>4</th>\n",
       "      <td>Basic</td>\n",
       "    </tr>\n",
       "  </tbody>\n",
       "</table>\n",
       "</div>"
      ],
      "text/plain": [
       "  subscription_plan\n",
       "0             Basic\n",
       "1           Premium\n",
       "2          Standard\n",
       "3           Premium\n",
       "4             Basic"
      ]
     },
     "execution_count": 6,
     "metadata": {},
     "output_type": "execute_result"
    }
   ],
   "source": [
    "# Sample data \n",
    "data = {'subscription_plan': ['Basic', 'Premium', 'Standard', 'Premium', 'Basic']}\n",
    "df = pd.DataFrame(data)\n",
    "df"
   ]
  },
  {
   "cell_type": "code",
   "execution_count": 17,
   "id": "c4c8d80e",
   "metadata": {},
   "outputs": [
    {
     "data": {
      "text/html": [
       "<div>\n",
       "<style scoped>\n",
       "    .dataframe tbody tr th:only-of-type {\n",
       "        vertical-align: middle;\n",
       "    }\n",
       "\n",
       "    .dataframe tbody tr th {\n",
       "        vertical-align: top;\n",
       "    }\n",
       "\n",
       "    .dataframe thead th {\n",
       "        text-align: right;\n",
       "    }\n",
       "</style>\n",
       "<table border=\"1\" class=\"dataframe\">\n",
       "  <thead>\n",
       "    <tr style=\"text-align: right;\">\n",
       "      <th></th>\n",
       "      <th>plan_Basic</th>\n",
       "      <th>plan_Premium</th>\n",
       "      <th>plan_Standard</th>\n",
       "    </tr>\n",
       "  </thead>\n",
       "  <tbody>\n",
       "    <tr>\n",
       "      <th>0</th>\n",
       "      <td>True</td>\n",
       "      <td>False</td>\n",
       "      <td>False</td>\n",
       "    </tr>\n",
       "    <tr>\n",
       "      <th>1</th>\n",
       "      <td>False</td>\n",
       "      <td>True</td>\n",
       "      <td>False</td>\n",
       "    </tr>\n",
       "    <tr>\n",
       "      <th>2</th>\n",
       "      <td>False</td>\n",
       "      <td>False</td>\n",
       "      <td>True</td>\n",
       "    </tr>\n",
       "    <tr>\n",
       "      <th>3</th>\n",
       "      <td>False</td>\n",
       "      <td>True</td>\n",
       "      <td>False</td>\n",
       "    </tr>\n",
       "    <tr>\n",
       "      <th>4</th>\n",
       "      <td>True</td>\n",
       "      <td>False</td>\n",
       "      <td>False</td>\n",
       "    </tr>\n",
       "  </tbody>\n",
       "</table>\n",
       "</div>"
      ],
      "text/plain": [
       "   plan_Basic  plan_Premium  plan_Standard\n",
       "0        True         False          False\n",
       "1       False          True          False\n",
       "2       False         False           True\n",
       "3       False          True          False\n",
       "4        True         False          False"
      ]
     },
     "execution_count": 17,
     "metadata": {},
     "output_type": "execute_result"
    }
   ],
   "source": [
    "# Apply one-hot encoding to 'subscription_plan'\n",
    "df_encoded = pd.get_dummies(df['subscription_plan'], prefix='plan')\n",
    "\n",
    "# Display the encoded dataframe\n",
    "# print(df_encoded)\n",
    "df_encoded"
   ]
  },
  {
   "cell_type": "code",
   "execution_count": 7,
   "id": "d3f3f617",
   "metadata": {},
   "outputs": [
    {
     "data": {
      "text/html": [
       "<div>\n",
       "<style scoped>\n",
       "    .dataframe tbody tr th:only-of-type {\n",
       "        vertical-align: middle;\n",
       "    }\n",
       "\n",
       "    .dataframe tbody tr th {\n",
       "        vertical-align: top;\n",
       "    }\n",
       "\n",
       "    .dataframe thead th {\n",
       "        text-align: right;\n",
       "    }\n",
       "</style>\n",
       "<table border=\"1\" class=\"dataframe\">\n",
       "  <thead>\n",
       "    <tr style=\"text-align: right;\">\n",
       "      <th></th>\n",
       "      <th>plan_Basic</th>\n",
       "      <th>plan_Premium</th>\n",
       "      <th>plan_Standard</th>\n",
       "    </tr>\n",
       "  </thead>\n",
       "  <tbody>\n",
       "    <tr>\n",
       "      <th>0</th>\n",
       "      <td>1</td>\n",
       "      <td>0</td>\n",
       "      <td>0</td>\n",
       "    </tr>\n",
       "    <tr>\n",
       "      <th>1</th>\n",
       "      <td>0</td>\n",
       "      <td>1</td>\n",
       "      <td>0</td>\n",
       "    </tr>\n",
       "    <tr>\n",
       "      <th>2</th>\n",
       "      <td>0</td>\n",
       "      <td>0</td>\n",
       "      <td>1</td>\n",
       "    </tr>\n",
       "    <tr>\n",
       "      <th>3</th>\n",
       "      <td>0</td>\n",
       "      <td>1</td>\n",
       "      <td>0</td>\n",
       "    </tr>\n",
       "    <tr>\n",
       "      <th>4</th>\n",
       "      <td>1</td>\n",
       "      <td>0</td>\n",
       "      <td>0</td>\n",
       "    </tr>\n",
       "  </tbody>\n",
       "</table>\n",
       "</div>"
      ],
      "text/plain": [
       "   plan_Basic  plan_Premium  plan_Standard\n",
       "0           1             0              0\n",
       "1           0             1              0\n",
       "2           0             0              1\n",
       "3           0             1              0\n",
       "4           1             0              0"
      ]
     },
     "execution_count": 7,
     "metadata": {},
     "output_type": "execute_result"
    }
   ],
   "source": [
    "# Apply one-hot-encoding to 'subscription_plan'\n",
    "df_encoded = pd.get_dummies(df['subscription_plan'], prefix = 'plan')\n",
    "\n",
    "# Display the encoded dataframe\n",
    "# print(df_encoded)\n",
    "\n",
    "df_encoded"
   ]
  },
  {
   "cell_type": "markdown",
   "id": "1b1af8df",
   "metadata": {},
   "source": [
    "<b>Explanation:</b>\n",
    "\n",
    "- One-Hot Encoding transforms categorical variables into multiple binary (0 or 1) columns.\n",
    "- For subscription_plan, three new columns are created: plan_Basic, plan_Standard, and plan_Premium."
   ]
  },
  {
   "cell_type": "markdown",
   "id": "82f7e02f",
   "metadata": {},
   "source": [
    "### 1.3. Text Feature Extraction (TF-IDF)\n",
    "<b>Real-time example:</b> A company is analyzing customer reviews to identify key themes. The dataset contains a column review_text.\n",
    "\n",
    "<b>Scenario:</b>\n",
    "\n",
    "- Text data cannot be used directly in machine learning models.\n",
    "- We can extract numerical features from text using techniques like TF-IDF (Term Frequency-Inverse Document Frequency)."
   ]
  },
  {
   "cell_type": "code",
   "execution_count": 19,
   "id": "28bb3f95",
   "metadata": {},
   "outputs": [
    {
     "data": {
      "text/plain": [
       "['Great product and fast delivery!',\n",
       " 'Terrible customer service.',\n",
       " 'Good value for the price.']"
      ]
     },
     "execution_count": 19,
     "metadata": {},
     "output_type": "execute_result"
    }
   ],
   "source": [
    "from sklearn.feature_extraction.text import TfidfVectorizer\n",
    "\n",
    "# Sample data\n",
    "reviews = [\"Great product and fast delivery!\", \"Terrible customer service.\", \"Good value for the price.\"]\n",
    "\n",
    "reviews"
   ]
  },
  {
   "cell_type": "code",
   "execution_count": 8,
   "id": "220ea57f",
   "metadata": {},
   "outputs": [
    {
     "data": {
      "text/plain": [
       "['Great product and fast delivery!',\n",
       " 'Not like the picture',\n",
       " 'Good value for the price']"
      ]
     },
     "execution_count": 8,
     "metadata": {},
     "output_type": "execute_result"
    }
   ],
   "source": [
    "from sklearn.feature_extraction.text import TfidfVectorizer\n",
    "\n",
    "reviews = ['Great product and fast delivery!', 'Not like the picture', 'Good value for the price']\n",
    "reviews"
   ]
  },
  {
   "cell_type": "code",
   "execution_count": 22,
   "id": "8626b47b",
   "metadata": {},
   "outputs": [
    {
     "data": {
      "text/plain": [
       "array([[0.4472136 , 0.        , 0.4472136 , 0.4472136 , 0.        ,\n",
       "        0.        , 0.4472136 , 0.        , 0.4472136 , 0.        ,\n",
       "        0.        , 0.        , 0.        ],\n",
       "       [0.        , 0.57735027, 0.        , 0.        , 0.        ,\n",
       "        0.        , 0.        , 0.        , 0.        , 0.57735027,\n",
       "        0.57735027, 0.        , 0.        ],\n",
       "       [0.        , 0.        , 0.        , 0.        , 0.4472136 ,\n",
       "        0.4472136 , 0.        , 0.4472136 , 0.        , 0.        ,\n",
       "        0.        , 0.4472136 , 0.4472136 ]])"
      ]
     },
     "execution_count": 22,
     "metadata": {},
     "output_type": "execute_result"
    }
   ],
   "source": [
    "# Initialize the TF-IDF vectorizer\n",
    "tfidf = TfidfVectorizer()\n",
    "\n",
    "# Fit and transform the text data into TF-IDF features\n",
    "tfidf_matrix = tfidf.fit_transform(reviews)\n",
    "\n",
    "# Convert to array and display the first 5 features\n",
    "tfidf_matrix.toarray()"
   ]
  },
  {
   "cell_type": "code",
   "execution_count": 10,
   "id": "22db8db0",
   "metadata": {},
   "outputs": [
    {
     "data": {
      "text/plain": [
       "array([[0.4472136 , 0.4472136 , 0.4472136 , 0.        , 0.        ,\n",
       "        0.4472136 , 0.        , 0.        , 0.        , 0.        ,\n",
       "        0.4472136 , 0.        , 0.        ],\n",
       "       [0.        , 0.        , 0.        , 0.        , 0.        ,\n",
       "        0.        , 0.52863461, 0.52863461, 0.52863461, 0.        ,\n",
       "        0.        , 0.40204024, 0.        ],\n",
       "       [0.        , 0.        , 0.        , 0.46735098, 0.46735098,\n",
       "        0.        , 0.        , 0.        , 0.        , 0.46735098,\n",
       "        0.        , 0.35543247, 0.46735098]])"
      ]
     },
     "execution_count": 10,
     "metadata": {},
     "output_type": "execute_result"
    }
   ],
   "source": [
    "tfidf = TfidfVectorizer()\n",
    "\n",
    "tfidf_matrix = tfidf.fit_transform(reviews)\n",
    "\n",
    "tfidf_matrix.toarray()"
   ]
  },
  {
   "cell_type": "markdown",
   "id": "813a048d",
   "metadata": {},
   "source": [
    "<b>Explanation:</b>\n",
    "\n",
    "- TF-IDF converts text into numerical features based on the frequency of words and their importance across the document.\n",
    "- It helps in identifying significant terms that are unique to a particular review.\n"
   ]
  },
  {
   "cell_type": "markdown",
   "id": "ac327cfc",
   "metadata": {},
   "source": [
    "## 2. Feature Selection"
   ]
  },
  {
   "cell_type": "markdown",
   "id": "395cc318",
   "metadata": {},
   "source": [
    "### 2.1. Removing Redundant Features (Correlation)\n",
    "<b>Real-time example:</b> A healthcare company is predicting patient health scores based on various biometric features, such as height, weight, BMI.\n",
    "\n",
    "<b>Scenario:</b>\n",
    "\n",
    "- Some features might be highly correlated, which can lead to redundancy and overfitting in the model.\n",
    "- If two features are highly correlated, we can remove one to simplify the model."
   ]
  },
  {
   "cell_type": "code",
   "execution_count": 24,
   "id": "9c144971",
   "metadata": {},
   "outputs": [
    {
     "data": {
      "text/html": [
       "<div>\n",
       "<style scoped>\n",
       "    .dataframe tbody tr th:only-of-type {\n",
       "        vertical-align: middle;\n",
       "    }\n",
       "\n",
       "    .dataframe tbody tr th {\n",
       "        vertical-align: top;\n",
       "    }\n",
       "\n",
       "    .dataframe thead th {\n",
       "        text-align: right;\n",
       "    }\n",
       "</style>\n",
       "<table border=\"1\" class=\"dataframe\">\n",
       "  <thead>\n",
       "    <tr style=\"text-align: right;\">\n",
       "      <th></th>\n",
       "      <th>height</th>\n",
       "      <th>weight</th>\n",
       "      <th>BMI</th>\n",
       "    </tr>\n",
       "  </thead>\n",
       "  <tbody>\n",
       "    <tr>\n",
       "      <th>0</th>\n",
       "      <td>170</td>\n",
       "      <td>70</td>\n",
       "      <td>24.2</td>\n",
       "    </tr>\n",
       "    <tr>\n",
       "      <th>1</th>\n",
       "      <td>165</td>\n",
       "      <td>65</td>\n",
       "      <td>23.9</td>\n",
       "    </tr>\n",
       "    <tr>\n",
       "      <th>2</th>\n",
       "      <td>180</td>\n",
       "      <td>80</td>\n",
       "      <td>24.7</td>\n",
       "    </tr>\n",
       "    <tr>\n",
       "      <th>3</th>\n",
       "      <td>175</td>\n",
       "      <td>75</td>\n",
       "      <td>24.5</td>\n",
       "    </tr>\n",
       "    <tr>\n",
       "      <th>4</th>\n",
       "      <td>160</td>\n",
       "      <td>60</td>\n",
       "      <td>23.4</td>\n",
       "    </tr>\n",
       "  </tbody>\n",
       "</table>\n",
       "</div>"
      ],
      "text/plain": [
       "   height  weight   BMI\n",
       "0     170      70  24.2\n",
       "1     165      65  23.9\n",
       "2     180      80  24.7\n",
       "3     175      75  24.5\n",
       "4     160      60  23.4"
      ]
     },
     "execution_count": 24,
     "metadata": {},
     "output_type": "execute_result"
    }
   ],
   "source": [
    "import seaborn as sns\n",
    "import numpy as np\n",
    "\n",
    "# Sample data\n",
    "data = {'height': [170, 165, 180, 175, 160],\n",
    "        'weight': [70, 65, 80, 75, 60],\n",
    "        'BMI': [24.2, 23.9, 24.7, 24.5, 23.4]}\n",
    "\n",
    "df = pd.DataFrame(data)\n",
    "\n",
    "df"
   ]
  },
  {
   "cell_type": "code",
   "execution_count": 12,
   "id": "deaa1eb0",
   "metadata": {},
   "outputs": [
    {
     "data": {
      "text/html": [
       "<div>\n",
       "<style scoped>\n",
       "    .dataframe tbody tr th:only-of-type {\n",
       "        vertical-align: middle;\n",
       "    }\n",
       "\n",
       "    .dataframe tbody tr th {\n",
       "        vertical-align: top;\n",
       "    }\n",
       "\n",
       "    .dataframe thead th {\n",
       "        text-align: right;\n",
       "    }\n",
       "</style>\n",
       "<table border=\"1\" class=\"dataframe\">\n",
       "  <thead>\n",
       "    <tr style=\"text-align: right;\">\n",
       "      <th></th>\n",
       "      <th>height</th>\n",
       "      <th>weight</th>\n",
       "      <th>BMI</th>\n",
       "    </tr>\n",
       "  </thead>\n",
       "  <tbody>\n",
       "    <tr>\n",
       "      <th>0</th>\n",
       "      <td>170</td>\n",
       "      <td>70</td>\n",
       "      <td>24.2</td>\n",
       "    </tr>\n",
       "    <tr>\n",
       "      <th>1</th>\n",
       "      <td>165</td>\n",
       "      <td>65</td>\n",
       "      <td>23.9</td>\n",
       "    </tr>\n",
       "    <tr>\n",
       "      <th>2</th>\n",
       "      <td>180</td>\n",
       "      <td>80</td>\n",
       "      <td>24.7</td>\n",
       "    </tr>\n",
       "    <tr>\n",
       "      <th>3</th>\n",
       "      <td>175</td>\n",
       "      <td>75</td>\n",
       "      <td>24.5</td>\n",
       "    </tr>\n",
       "    <tr>\n",
       "      <th>4</th>\n",
       "      <td>160</td>\n",
       "      <td>60</td>\n",
       "      <td>23.4</td>\n",
       "    </tr>\n",
       "  </tbody>\n",
       "</table>\n",
       "</div>"
      ],
      "text/plain": [
       "   height  weight   BMI\n",
       "0     170      70  24.2\n",
       "1     165      65  23.9\n",
       "2     180      80  24.7\n",
       "3     175      75  24.5\n",
       "4     160      60  23.4"
      ]
     },
     "execution_count": 12,
     "metadata": {},
     "output_type": "execute_result"
    }
   ],
   "source": [
    "import seaborn as sns\n",
    "import numpy as np\n",
    "\n",
    "# sample data \n",
    "data = {\n",
    "    'height': [170, 165, 180, 175, 160],\n",
    "    'weight': [70, 65, 80, 75, 60],\n",
    "    'BMI' : [24.2, 23.9, 24.7, 24.5, 23.4]\n",
    "}\n",
    "\n",
    "df = pd.DataFrame(data)\n",
    "df"
   ]
  },
  {
   "cell_type": "code",
   "execution_count": 25,
   "id": "bd505202",
   "metadata": {},
   "outputs": [
    {
     "data": {
      "text/html": [
       "<div>\n",
       "<style scoped>\n",
       "    .dataframe tbody tr th:only-of-type {\n",
       "        vertical-align: middle;\n",
       "    }\n",
       "\n",
       "    .dataframe tbody tr th {\n",
       "        vertical-align: top;\n",
       "    }\n",
       "\n",
       "    .dataframe thead th {\n",
       "        text-align: right;\n",
       "    }\n",
       "</style>\n",
       "<table border=\"1\" class=\"dataframe\">\n",
       "  <thead>\n",
       "    <tr style=\"text-align: right;\">\n",
       "      <th></th>\n",
       "      <th>height</th>\n",
       "      <th>weight</th>\n",
       "      <th>BMI</th>\n",
       "    </tr>\n",
       "  </thead>\n",
       "  <tbody>\n",
       "    <tr>\n",
       "      <th>height</th>\n",
       "      <td>1.000000</td>\n",
       "      <td>1.000000</td>\n",
       "      <td>0.986602</td>\n",
       "    </tr>\n",
       "    <tr>\n",
       "      <th>weight</th>\n",
       "      <td>1.000000</td>\n",
       "      <td>1.000000</td>\n",
       "      <td>0.986602</td>\n",
       "    </tr>\n",
       "    <tr>\n",
       "      <th>BMI</th>\n",
       "      <td>0.986602</td>\n",
       "      <td>0.986602</td>\n",
       "      <td>1.000000</td>\n",
       "    </tr>\n",
       "  </tbody>\n",
       "</table>\n",
       "</div>"
      ],
      "text/plain": [
       "          height    weight       BMI\n",
       "height  1.000000  1.000000  0.986602\n",
       "weight  1.000000  1.000000  0.986602\n",
       "BMI     0.986602  0.986602  1.000000"
      ]
     },
     "execution_count": 25,
     "metadata": {},
     "output_type": "execute_result"
    }
   ],
   "source": [
    "# Calculate the correlation matrix\n",
    "corr_matrix = df.corr()\n",
    "\n",
    "corr_matrix"
   ]
  },
  {
   "cell_type": "code",
   "execution_count": 13,
   "id": "ec0fd2f0",
   "metadata": {},
   "outputs": [
    {
     "data": {
      "text/html": [
       "<div>\n",
       "<style scoped>\n",
       "    .dataframe tbody tr th:only-of-type {\n",
       "        vertical-align: middle;\n",
       "    }\n",
       "\n",
       "    .dataframe tbody tr th {\n",
       "        vertical-align: top;\n",
       "    }\n",
       "\n",
       "    .dataframe thead th {\n",
       "        text-align: right;\n",
       "    }\n",
       "</style>\n",
       "<table border=\"1\" class=\"dataframe\">\n",
       "  <thead>\n",
       "    <tr style=\"text-align: right;\">\n",
       "      <th></th>\n",
       "      <th>height</th>\n",
       "      <th>weight</th>\n",
       "      <th>BMI</th>\n",
       "    </tr>\n",
       "  </thead>\n",
       "  <tbody>\n",
       "    <tr>\n",
       "      <th>height</th>\n",
       "      <td>1.000000</td>\n",
       "      <td>1.000000</td>\n",
       "      <td>0.986602</td>\n",
       "    </tr>\n",
       "    <tr>\n",
       "      <th>weight</th>\n",
       "      <td>1.000000</td>\n",
       "      <td>1.000000</td>\n",
       "      <td>0.986602</td>\n",
       "    </tr>\n",
       "    <tr>\n",
       "      <th>BMI</th>\n",
       "      <td>0.986602</td>\n",
       "      <td>0.986602</td>\n",
       "      <td>1.000000</td>\n",
       "    </tr>\n",
       "  </tbody>\n",
       "</table>\n",
       "</div>"
      ],
      "text/plain": [
       "          height    weight       BMI\n",
       "height  1.000000  1.000000  0.986602\n",
       "weight  1.000000  1.000000  0.986602\n",
       "BMI     0.986602  0.986602  1.000000"
      ]
     },
     "execution_count": 13,
     "metadata": {},
     "output_type": "execute_result"
    }
   ],
   "source": [
    "corr_matrix = df.corr()\n",
    "\n",
    "corr_matrix"
   ]
  },
  {
   "cell_type": "code",
   "execution_count": 26,
   "id": "b24a2fdf",
   "metadata": {},
   "outputs": [
    {
     "data": {
      "text/plain": [
       "<Axes: >"
      ]
     },
     "execution_count": 26,
     "metadata": {},
     "output_type": "execute_result"
    },
    {
     "data": {
      "image/png": "[encoded data removed]",
      "text/plain": [
       "<Figure size 640x480 with 2 Axes>"
      ]
     },
     "metadata": {},
     "output_type": "display_data"
    }
   ],
   "source": [
    "# Plot the correlation heatmap\n",
    "sns.heatmap(corr_matrix, annot=True, cmap='coolwarm')"
   ]
  },
  {
   "cell_type": "code",
   "execution_count": 14,
   "id": "6c843341",
   "metadata": {},
   "outputs": [
    {
     "data": {
      "text/plain": [
       "<AxesSubplot:>"
      ]
     },
     "execution_count": 14,
     "metadata": {},
     "output_type": "execute_result"
    },
    {
     "data": {
      "image/png": "[encoded data removed]",
      "text/plain": [
       "<Figure size 432x288 with 2 Axes>"
      ]
     },
     "metadata": {
      "needs_background": "light"
     },
     "output_type": "display_data"
    }
   ],
   "source": [
    "sns.heatmap(corr_matrix, annot = True, cmap = 'coolwarm')"
   ]
  },
  {
   "cell_type": "markdown",
   "id": "09edf768",
   "metadata": {},
   "source": [
    "<b>Explanation:</b>\n",
    "\n",
    "- The correlation matrix shows the relationships between features. If two features have a high correlation (close to 1 or -1), one of them may be redundant.\n",
    "- For instance, weight and BMI might be highly correlated since BMI is calculated based on weight and height. We could consider removing one of these features."
   ]
  },
  {
   "cell_type": "markdown",
   "id": "b33a064d",
   "metadata": {},
   "source": [
    "### 2.2. Recursive Feature Elimination (RFE)\n",
    "<b>Real-time example:</b> A real estate company wants to predict house prices based on multiple features like area, bedrooms, bathrooms, location, etc.\n",
    "\n",
    "<b>Scenario:</b>\n",
    "\n",
    "- Recursive Feature Elimination (RFE) selects features by recursively considering smaller sets of features.\n",
    "- RFE helps select a subset of features that are most predictive of the target variable.\n"
   ]
  },
  {
   "cell_type": "code",
   "execution_count": 9,
   "id": "732f10f7",
   "metadata": {},
   "outputs": [
    {
     "name": "stdout",
     "output_type": "stream",
     "text": [
      "Selected Features:  [ True False  True]\n",
      "Feature Ranking:  [1 2 1]\n"
     ]
    }
   ],
   "source": [
    "from sklearn.linear_model import LinearRegression\n",
    "from sklearn.feature_selection import RFE\n",
    "\n",
    "# Sample data\n",
    "X = df[['height', 'weight', 'BMI']]  # Feature matrix\n",
    "y = [1, 0, 1, 1, 0]  # Target (binary labels for illustration)\n",
    "\n",
    "# Create a Linear Regression model\n",
    "model = LinearRegression()\n",
    "\n",
    "# Apply Recursive Feature Elimination (RFE)\n",
    "rfe = RFE(model, n_features_to_select=2)\n",
    "fit = rfe.fit(X, y)\n",
    "\n",
    "# Display the ranking of features\n",
    "print(\"Selected Features: \", fit.support_)\n",
    "print(\"Feature Ranking: \", fit.ranking_)\n"
   ]
  },
  {
   "cell_type": "code",
   "execution_count": 19,
   "id": "f669ca62",
   "metadata": {},
   "outputs": [
    {
     "name": "stdout",
     "output_type": "stream",
     "text": [
      "Selected Features:  [ True False  True]\n",
      "Feature Ranking:  [1 2 1]\n"
     ]
    }
   ],
   "source": [
    "from sklearn.linear_model import LinearRegression\n",
    "from sklearn.feature_selection import RFE\n",
    "\n",
    "x = df[['height', 'weight', 'BMI']]\n",
    "y = [1, 0, 1, 1, 0]\n",
    "\n",
    "model = LinearRegression()\n",
    "\n",
    "rfe = RFE(model, n_features_to_select = 2)\n",
    "fit = rfe.fit(x,y)\n",
    "\n",
    "print(\"Selected Features: \", fit.support_)\n",
    "print(\"Feature Ranking: \", fit.ranking_)"
   ]
  },
  {
   "cell_type": "markdown",
   "id": "f5eb405a",
   "metadata": {},
   "source": [
    "<b>Explanation:</b>\n",
    "\n",
    "- RFE ranks the features based on their importance to the model.\n",
    "- In this case, RFE selects the top 2 features out of the 3 available (height, weight, BMI)."
   ]
  },
  {
   "cell_type": "markdown",
   "id": "0ae9ec8f",
   "metadata": {},
   "source": [
    "## Overfitting"
   ]
  },
  {
   "cell_type": "markdown",
   "id": "dd951447",
   "metadata": {},
   "source": [
    "<b>In machine learning, the goal is to train a model that can generalize well to unseen data. Overfitting and underfitting are two common problems encountered during this process.</b>\n",
    "\n",
    "\n",
    "<font size = 3>\n",
    "1. Overfitting<br><br>\n",
    "- Definition: Overfitting occurs when a model learns not only the underlying patterns in the training data but also the noise or random fluctuations. The model becomes too complex and performs extremely well on the training data but poorly on unseen data.<br><br>\n",
    "- Reason: Overfitting typically happens when the model is too complex, meaning it has too many parameters relative to the amount of data.<br><br>\n",
    "- Symptoms: Low training error, but high validation/test error."
   ]
  },
  {
   "cell_type": "markdown",
   "id": "722686c7",
   "metadata": {},
   "source": [
    "### 1. Predicting Exam Scores Based on Study Hours\n",
    "Suppose you're building a ML model to predict students' exam scores based on the number of hours they study. Let's explore underfitting and overfitting in this context.\n",
    "\n",
    "<b>Underfitting Example:</b>\n",
    "\n",
    "You use a linear model to predict the exam scores, assuming that scores will always increase in a straight line with study hours.\n",
    "\n",
    "Reality: After a certain point (say, 8 hours of study), additional hours may not lead to significant improvement in scores, or students might even get tired and perform worse.\n",
    "\n",
    "Underfitting happens because your linear model is too simple and doesn't capture this nuanced relationship.\n",
    "\n",
    "Real-World Consequences: The model will under-predict for students who study a lot, and over-predict for students who study too little. It performs poorly on both training and unseen test data.\n",
    "\n",
    "<b>Overfitting Example:</b>\n",
    "\n",
    "You use a complex model that tries to account for every variation in the data. For instance, a student who studied 9 hours and got a 70 on the test may be an outlier due to external factors (e.g., bad health). But the model fits this specific case too closely, treating it as a pattern.\n",
    "\n",
    "Reality: The model fits each student’s score perfectly in the training data, but fails to generalize when predicting scores for new students.\n",
    "\n",
    "Overfitting happens because the model is too complex, fitting random noise or irrelevant details in the data.\n",
    "\n",
    "Real-World Consequences: On unseen data, this model will give poor predictions because it’s learned too many irrelevant details from the training set."
   ]
  },
  {
   "cell_type": "code",
   "execution_count": null,
   "id": "8a84919b",
   "metadata": {},
   "outputs": [],
   "source": []
  }
 ],
 "metadata": {
  "kernelspec": {
   "display_name": "Python 3 (ipykernel)",
   "language": "python",
   "name": "python3"
  },
  "language_info": {
   "codemirror_mode": {
    "name": "ipython",
    "version": 3
   },
   "file_extension": ".py",
   "mimetype": "text/x-python",
   "name": "python",
   "nbconvert_exporter": "python",
   "pygments_lexer": "ipython3",
   "version": "3.9.7"
  }
 },
 "nbformat": 4,
 "nbformat_minor": 5
}
