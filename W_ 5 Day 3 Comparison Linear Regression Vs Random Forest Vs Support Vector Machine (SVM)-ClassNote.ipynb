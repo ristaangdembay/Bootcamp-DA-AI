{
 "cells": [
  {
   "cell_type": "code",
   "execution_count": 1,
   "id": "ff78665f",
   "metadata": {},
   "outputs": [
    {
     "data": {
      "text/html": [
       "<div>\n",
       "<style scoped>\n",
       "    .dataframe tbody tr th:only-of-type {\n",
       "        vertical-align: middle;\n",
       "    }\n",
       "\n",
       "    .dataframe tbody tr th {\n",
       "        vertical-align: top;\n",
       "    }\n",
       "\n",
       "    .dataframe thead th {\n",
       "        text-align: right;\n",
       "    }\n",
       "</style>\n",
       "<table border=\"1\" class=\"dataframe\">\n",
       "  <thead>\n",
       "    <tr style=\"text-align: right;\">\n",
       "      <th></th>\n",
       "      <th>Age</th>\n",
       "      <th>Income</th>\n",
       "      <th>Debt</th>\n",
       "      <th>Default</th>\n",
       "    </tr>\n",
       "  </thead>\n",
       "  <tbody>\n",
       "    <tr>\n",
       "      <th>0</th>\n",
       "      <td>58</td>\n",
       "      <td>51918</td>\n",
       "      <td>9735</td>\n",
       "      <td>0</td>\n",
       "    </tr>\n",
       "    <tr>\n",
       "      <th>1</th>\n",
       "      <td>71</td>\n",
       "      <td>115981</td>\n",
       "      <td>13596</td>\n",
       "      <td>1</td>\n",
       "    </tr>\n",
       "    <tr>\n",
       "      <th>2</th>\n",
       "      <td>48</td>\n",
       "      <td>90713</td>\n",
       "      <td>30745</td>\n",
       "      <td>0</td>\n",
       "    </tr>\n",
       "    <tr>\n",
       "      <th>3</th>\n",
       "      <td>34</td>\n",
       "      <td>60306</td>\n",
       "      <td>13545</td>\n",
       "      <td>0</td>\n",
       "    </tr>\n",
       "    <tr>\n",
       "      <th>4</th>\n",
       "      <td>62</td>\n",
       "      <td>46646</td>\n",
       "      <td>29424</td>\n",
       "      <td>1</td>\n",
       "    </tr>\n",
       "  </tbody>\n",
       "</table>\n",
       "</div>"
      ],
      "text/plain": [
       "   Age  Income   Debt  Default\n",
       "0   58   51918   9735        0\n",
       "1   71  115981  13596        1\n",
       "2   48   90713  30745        0\n",
       "3   34   60306  13545        0\n",
       "4   62   46646  29424        1"
      ]
     },
     "execution_count": 1,
     "metadata": {},
     "output_type": "execute_result"
    }
   ],
   "source": [
    "# Import Libraries\n",
    "import numpy as np\n",
    "import pandas as pd\n",
    "\n",
    "# create a synthetic dataset with 300 records \n",
    "np.random.seed(42)\n",
    "data_size = 300\n",
    "\n",
    "\n",
    "age = np.random.randint(20, 75, size = data_size) # Customer age\n",
    "income = np.random.randint(30000, 160000, size = data_size) # Annual income\n",
    "debt = np.random.randint(300, 40000, size = data_size)\n",
    "default = np.random.choice([0,1], size = data_size, p = [0.7, 0.3])\n",
    "\n",
    "# Create a DataFrame \n",
    "df = pd.DataFrame({\n",
    "    'Age': age,\n",
    "    'Income': income,\n",
    "    'Debt' : debt,\n",
    "    'Default': default\n",
    "})\n",
    "\n",
    "#Display the head of the dataframe \n",
    "df.head()\n",
    "\n"
   ]
  },
  {
   "cell_type": "code",
   "execution_count": 11,
   "id": "56c5a473",
   "metadata": {},
   "outputs": [],
   "source": [
    "# Import libraries to split the datasets into train and test datasets \n",
    "from sklearn.model_selection import train_test_split\n",
    "from sklearn.preprocessing import StandardScaler\n",
    "\n",
    "# Assign feautres and target values \n",
    "x = df[['Age', 'Income', 'Debt']]\n",
    "y = df['Default']\n",
    "\n",
    "#Split the data into train(75%) and test(25%) \n",
    "x_train, x_test, y_train, y_test = train_test_split(x,y, test_size = .25, random_state = 42)\n",
    "\n",
    "#Standardize the data \n",
    "scaler = StandardScaler()\n",
    "x_train_scaled = scaler.fit_transform(x_train)\n",
    "x_test_scaled = scaler.fit_transform(x_test)"
   ]
  },
  {
   "cell_type": "code",
   "execution_count": 12,
   "id": "de6b2c71",
   "metadata": {
    "collapsed": true
   },
   "outputs": [
    {
     "name": "stdout",
     "output_type": "stream",
     "text": [
      "[[ 0.38545893  1.67780652 -0.82471962]\n",
      " [ 0.44736347  0.31822811  1.12478844]\n",
      " [-1.59548633 -0.3017225   1.2141644 ]\n",
      " [-0.23358646  1.20718114  1.3213665 ]\n",
      " [-1.53358179 -0.24378268  0.69401757]\n",
      " [ 0.88069525 -1.179961    1.08660127]\n",
      " [-0.41930008 -0.19644889  1.41891958]\n",
      " [-0.10977738  1.08332664 -0.81204508]\n",
      " [-1.16215455 -0.43848867  0.72271927]\n",
      " [ 0.75688617 -0.36128984  1.08251271]\n",
      " [ 1.37593156 -0.83858806  1.13664527]\n",
      " [ 1.62354972 -1.63130023  0.16937331]\n",
      " [ 0.94259979  1.75785352 -0.07373258]\n",
      " [ 1.49974064 -0.39750222 -0.02426098]\n",
      " [ 0.32355439  0.66556863  1.25390523]\n",
      " [-0.72882278 -1.29307384 -0.64147028]\n",
      " [ 0.38545893 -0.09141941 -0.43172706]\n",
      " [-1.28596363 -1.09400066  1.26142818]\n",
      " [ 0.63307709 -1.0827165   0.42482665]\n",
      " [ 1.49974064  0.08983239  0.01408973]\n",
      " [ 1.68545426  1.69823193 -0.04887412]\n",
      " [-1.59548633  0.29121123 -1.63531789]\n",
      " [-0.48120462  0.78082438 -1.69075879]\n",
      " [-1.53358179  0.64188817 -1.68912337]\n",
      " [ 0.88069525  0.81839303 -1.04059569]\n",
      " [ 1.56164518 -0.26195669 -1.4021881 ]\n",
      " [-0.04787284 -1.6184428   0.15269198]\n",
      " [-0.97644093 -1.34878937  0.39849631]\n",
      " [ 0.75688617 -1.40822109  1.39079028]\n",
      " [-0.6050137   0.18091943 -1.03405399]\n",
      " [-1.47167725  1.72503181  0.18221139]\n",
      " [-0.85263185 -0.48801962 -1.33390911]\n",
      " [ 0.0140317   1.7106011   1.15577974]\n",
      " [ 0.69498163 -1.50839512  1.43797228]\n",
      " [ 0.63307709 -0.86758509  0.51469324]\n",
      " [-0.6050137  -0.72685861  0.15244666]\n",
      " [ 0.75688617  0.91121609  0.66736014]\n",
      " [-1.16215455  0.30602169  0.02382051]\n",
      " [-1.22405909  1.7103841  -0.04658453]\n",
      " [-1.53358179 -0.45555054  0.51706461]\n",
      " [ 0.81879071 -1.17372216 -1.66508262]\n",
      " [ 0.94259979  0.19700478  1.19993621]\n",
      " [-1.22405909 -1.24896797 -0.72675768]\n",
      " [ 0.07593623 -0.3499243  -0.80133305]\n",
      " [-1.40977271 -0.51387011 -0.29067167]\n",
      " [ 1.06640886  0.73953955 -1.45501232]\n",
      " [-1.47167725  0.09232793  1.37631677]\n",
      " [ 1.37593156 -0.38684195 -0.89332569]\n",
      " [-1.10025001  1.26425294 -1.62673191]\n",
      " [-0.91453639  0.6546371  -0.14765378]\n",
      " [ 0.57117255 -1.47269812  1.3685485 ]\n",
      " [ 0.0140317  -0.98647564  0.59155821]\n",
      " [ 1.37593156  0.48092615  0.22669495]\n",
      " [ 1.68545426  0.63494407 -0.17766382]\n",
      " [-0.10977738  0.5874204  -0.88735639]\n",
      " [-0.41930008 -0.17501984 -1.03307273]\n",
      " [-0.54310916 -0.24313167  0.27845614]\n",
      " [-0.23358646 -1.54921882 -1.66262949]\n",
      " [ 0.07593623  0.19049469  0.75992518]\n",
      " [-1.53358179  1.48782034  0.81086866]\n",
      " [ 0.75688617  0.65715976  0.2234241 ]\n",
      " [-0.41930008 -0.05081271 -0.91941071]\n",
      " [-0.35739554  1.57237016  1.16003185]\n",
      " [-0.295491    1.2916767   1.35881772]\n",
      " [ 0.63307709 -1.55176861 -1.68094624]\n",
      " [ 1.06640886 -1.58708586 -0.24447092]\n",
      " [ 1.06640886  0.26272958 -1.34511177]\n",
      " [ 0.32355439  1.34427282  1.44704889]\n",
      " [-0.04787284  0.39322979  0.35082368]\n",
      " [ 0.07593623  0.19822542 -0.04102408]\n",
      " [-1.59548633 -0.16745186  0.86729082]\n",
      " [ 0.75688617 -1.61635414  0.27256861]\n",
      " [ 1.56164518  1.40194138 -1.72142301]\n",
      " [ 0.07593623  0.36404288 -0.59019971]\n",
      " [-1.22405909 -0.48207916 -1.17175675]]\n"
     ]
    }
   ],
   "source": [
    "print(x_test_scaled)"
   ]
  },
  {
   "cell_type": "markdown",
   "id": "24901dcf",
   "metadata": {},
   "source": [
    "# Linear Regression "
   ]
  },
  {
   "cell_type": "code",
   "execution_count": 3,
   "id": "4f639e0f",
   "metadata": {},
   "outputs": [
    {
     "name": "stdout",
     "output_type": "stream",
     "text": [
      "Linear Regression Accracy: 0.68\n"
     ]
    }
   ],
   "source": [
    "#Import libarary for LinearRegression and accuract test\n",
    "from sklearn.linear_model import LinearRegression\n",
    "from sklearn.metrics import accuracy_score\n",
    "\n",
    "# Train a linear Regression model\n",
    "lr_model = LinearRegression()\n",
    "lr_model.fit(x_train, y_train)\n",
    "\n",
    "# predict using linear regression model\n",
    "y_pred_lr = lr_model.predict(x_test)\n",
    "\n",
    "# Convert prediction to binary classification(threshold = 0.5)\n",
    "y_pred_lr_class =[ 1 if i>0.5 else 0 for i in y_pred_lr]\n",
    "\n",
    "# Evaluate Linear Regression Model\n",
    "accuracy_lr = accuracy_score(y_test, y_pred_lr_class)\n",
    "print(f\"Linear Regression Accracy: {accuracy_lr:.2f}\")"
   ]
  },
  {
   "cell_type": "markdown",
   "id": "0d4e8328",
   "metadata": {},
   "source": [
    "# Random Forest"
   ]
  },
  {
   "cell_type": "code",
   "execution_count": 4,
   "id": "056260e9",
   "metadata": {},
   "outputs": [
    {
     "name": "stdout",
     "output_type": "stream",
     "text": [
      "Random Forest Accuracy : 0.65\n"
     ]
    }
   ],
   "source": [
    "# Import RandomForest \n",
    "from sklearn.ensemble import RandomForestClassifier\n",
    "\n",
    "# Train a Random Forest Classifier\n",
    "rf_model = RandomForestClassifier(n_estimators = 150, random_state = 42)\n",
    "rf_model.fit(x_train, y_train)\n",
    "\n",
    "# Predict using the random forest classifier \n",
    "y_pred_rf = rf_model.predict(x_test)\n",
    "\n",
    "# Evaluate Random Forest Model \n",
    "accuracy_rf = accuracy_score(y_test, y_pred_rf)\n",
    "print(f\"Random Forest Accuracy : {accuracy_rf:.2f}\")\n"
   ]
  },
  {
   "cell_type": "markdown",
   "id": "1eca1030",
   "metadata": {},
   "source": [
    "# Support Vector Machine(SVM)"
   ]
  },
  {
   "cell_type": "code",
   "execution_count": 13,
   "id": "f0cb2b12",
   "metadata": {},
   "outputs": [
    {
     "name": "stdout",
     "output_type": "stream",
     "text": [
      "SVM Accuracy: 0.68\n"
     ]
    }
   ],
   "source": [
    "# Import SVC \n",
    "from sklearn.svm import SVC\n",
    "\n",
    "# Train an SVM classifier \n",
    "svm_model = SVC(kernel = 'linear', random_state = 42)\n",
    "svm_model.fit(x_train_scaled, y_train)\n",
    "\n",
    "#Predict using the SVM model\n",
    "y_pred_svm = svm_model.predict(x_test_scaled)\n",
    "\n",
    "# Evaluate SVM model \n",
    "accuracy_svm = accuracy_score(y_test, y_pred_svm)\n",
    "print(f\"SVM Accuracy: {accuracy_svm:.2f}\")"
   ]
  },
  {
   "cell_type": "code",
   "execution_count": 15,
   "id": "8880833c",
   "metadata": {},
   "outputs": [
    {
     "name": "stdout",
     "output_type": "stream",
     "text": [
      "Model Comparison: \n",
      "Linear Regression Accuracy: 0.68\n",
      "Random Forest Accuracy: 0.65\n",
      "SVM Accuracy: 0.68\n"
     ]
    }
   ],
   "source": [
    "print(\"Model Comparison: \")\n",
    "print(f\"Linear Regression Accuracy: {accuracy_lr:.2f}\")\n",
    "print(f\"Random Forest Accuracy: {accuracy_rf:.2f}\")\n",
    "print(f\"SVM Accuracy: {accuracy_svm:.2f}\")"
   ]
  },
  {
   "cell_type": "code",
   "execution_count": null,
   "id": "9099c1a7",
   "metadata": {},
   "outputs": [],
   "source": []
  }
 ],
 "metadata": {
  "kernelspec": {
   "display_name": "Python 3 (ipykernel)",
   "language": "python",
   "name": "python3"
  },
  "language_info": {
   "codemirror_mode": {
    "name": "ipython",
    "version": 3
   },
   "file_extension": ".py",
   "mimetype": "text/x-python",
   "name": "python",
   "nbconvert_exporter": "python",
   "pygments_lexer": "ipython3",
   "version": "3.9.7"
  }
 },
 "nbformat": 4,
 "nbformat_minor": 5
}
