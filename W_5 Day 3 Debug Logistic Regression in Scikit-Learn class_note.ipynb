{
 "cells": [
  {
   "cell_type": "markdown",
   "id": "0c818336",
   "metadata": {},
   "source": [
    "# Steps to Use Logistic Regression in Scikit-Learn"
   ]
  },
  {
   "cell_type": "markdown",
   "id": "1c6eed20",
   "metadata": {},
   "source": [
    "####  What is Scikit-Learn?\n",
    "- Simple and efficient tools for predictive data analysis\n",
    "- Accessible to everybody, and reusable in various contexts\n",
    "- Built on NumPy, SciPy, and matplotlib\n",
    "- Open source, commercially usable - BSD license"
   ]
  },
  {
   "cell_type": "markdown",
   "id": "358d1dc0",
   "metadata": {},
   "source": [
    "## Step 1: Import the Algorithm: Logistic Regression is available in Scikit-Learn’s linear_model module."
   ]
  },
  {
   "cell_type": "code",
   "execution_count": 1,
   "id": "03c457df",
   "metadata": {},
   "outputs": [],
   "source": [
    "import numpy as np\n",
    "import pandas as pd\n",
    "\n",
    "from sklearn.model_selection import train_test_split\n",
    "from sklearn.linear_model import LogisticRegression\n",
    "from sklearn.metrics import accuracy_score, precision_score,recall_score, f1_score"
   ]
  },
  {
   "cell_type": "markdown",
   "id": "5d803685",
   "metadata": {},
   "source": [
    "## Step 2: Prepare the Data:\n",
    "\n",
    "- x: Feature matrix (e.g., characteristics of loan seekers like employed, income, etc.).\n",
    "- y: Target variable (binary labels like \" approved\" or \"not not approved\")."
   ]
  },
  {
   "cell_type": "code",
   "execution_count": 2,
   "id": "e16d43b6",
   "metadata": {},
   "outputs": [],
   "source": [
    "# Sample Dataset\n",
    "data = {\n",
    "    'Employed':[1,0 , 0, 1, 1, 1, 1, 1],\n",
    "    'Income': [ 60000, 0, 0, 120000, 150000, 75000, 48000, 80000],\n",
    "    'credit_score' : [775, 400, 316, 750, 778, 700, 600, 800],\n",
    "    'Loan_Status':[1, 0, 0, 0, 1, 1, 1, 1]\n",
    "}\n",
    "\n",
    "df = pd.DataFrame(data)"
   ]
  },
  {
   "cell_type": "code",
   "execution_count": 3,
   "id": "3141a618",
   "metadata": {},
   "outputs": [
    {
     "data": {
      "text/html": [
       "<div>\n",
       "<style scoped>\n",
       "    .dataframe tbody tr th:only-of-type {\n",
       "        vertical-align: middle;\n",
       "    }\n",
       "\n",
       "    .dataframe tbody tr th {\n",
       "        vertical-align: top;\n",
       "    }\n",
       "\n",
       "    .dataframe thead th {\n",
       "        text-align: right;\n",
       "    }\n",
       "</style>\n",
       "<table border=\"1\" class=\"dataframe\">\n",
       "  <thead>\n",
       "    <tr style=\"text-align: right;\">\n",
       "      <th></th>\n",
       "      <th>Employed</th>\n",
       "      <th>Income</th>\n",
       "      <th>credit_score</th>\n",
       "      <th>Loan_Status</th>\n",
       "    </tr>\n",
       "  </thead>\n",
       "  <tbody>\n",
       "    <tr>\n",
       "      <th>0</th>\n",
       "      <td>1</td>\n",
       "      <td>60000</td>\n",
       "      <td>775</td>\n",
       "      <td>1</td>\n",
       "    </tr>\n",
       "    <tr>\n",
       "      <th>1</th>\n",
       "      <td>0</td>\n",
       "      <td>0</td>\n",
       "      <td>400</td>\n",
       "      <td>0</td>\n",
       "    </tr>\n",
       "    <tr>\n",
       "      <th>2</th>\n",
       "      <td>0</td>\n",
       "      <td>0</td>\n",
       "      <td>316</td>\n",
       "      <td>0</td>\n",
       "    </tr>\n",
       "    <tr>\n",
       "      <th>3</th>\n",
       "      <td>1</td>\n",
       "      <td>120000</td>\n",
       "      <td>750</td>\n",
       "      <td>0</td>\n",
       "    </tr>\n",
       "    <tr>\n",
       "      <th>4</th>\n",
       "      <td>1</td>\n",
       "      <td>150000</td>\n",
       "      <td>778</td>\n",
       "      <td>1</td>\n",
       "    </tr>\n",
       "  </tbody>\n",
       "</table>\n",
       "</div>"
      ],
      "text/plain": [
       "   Employed  Income  credit_score  Loan_Status\n",
       "0         1   60000           775            1\n",
       "1         0       0           400            0\n",
       "2         0       0           316            0\n",
       "3         1  120000           750            0\n",
       "4         1  150000           778            1"
      ]
     },
     "execution_count": 3,
     "metadata": {},
     "output_type": "execute_result"
    }
   ],
   "source": [
    "df.head()"
   ]
  },
  {
   "cell_type": "code",
   "execution_count": 4,
   "id": "e25df6e5",
   "metadata": {},
   "outputs": [],
   "source": [
    "# Featured and target variable  x and y respectively\n",
    "\n",
    "x = df[[ 'Employed','Income', 'credit_score']]\n",
    "y = df['Loan_Status']"
   ]
  },
  {
   "cell_type": "code",
   "execution_count": 5,
   "id": "d5e49f39",
   "metadata": {},
   "outputs": [],
   "source": [
    "# Split the datasets into x_train, x_test, y_train, y_test\n",
    "\n",
    "x_train, x_test, y_train, y_test = train_test_split(x, y, test_size = 0.20, random_state = 42)\n"
   ]
  },
  {
   "cell_type": "markdown",
   "id": "244b9d10",
   "metadata": {},
   "source": [
    "## Step 3: Train the Model: You train the model using fit(), passing in your training data."
   ]
  },
  {
   "cell_type": "code",
   "execution_count": 6,
   "id": "d49702ed",
   "metadata": {},
   "outputs": [],
   "source": [
    "\n",
    "model = LogisticRegression()"
   ]
  },
  {
   "cell_type": "code",
   "execution_count": 7,
   "id": "71ccfb78",
   "metadata": {},
   "outputs": [
    {
     "data": {
      "text/plain": [
       "LogisticRegression()"
      ]
     },
     "execution_count": 7,
     "metadata": {},
     "output_type": "execute_result"
    }
   ],
   "source": [
    "# fit the datasets\n",
    "model.fit(x_train, y_train)"
   ]
  },
  {
   "cell_type": "markdown",
   "id": "7fc16204",
   "metadata": {},
   "source": [
    "## Step 4: Predict: Use the trained model to predict class labels or probabilities on unseen data.\n",
    "\n"
   ]
  },
  {
   "cell_type": "code",
   "execution_count": 8,
   "id": "0e63ac3c",
   "metadata": {},
   "outputs": [],
   "source": [
    "# Predict the trained model \n",
    "\n",
    "y_pred = model.predict(x_test)"
   ]
  },
  {
   "cell_type": "code",
   "execution_count": 9,
   "id": "c1a4159a",
   "metadata": {},
   "outputs": [
    {
     "data": {
      "text/plain": [
       "array([1, 1], dtype=int64)"
      ]
     },
     "execution_count": 9,
     "metadata": {},
     "output_type": "execute_result"
    }
   ],
   "source": [
    "y_pred"
   ]
  },
  {
   "cell_type": "markdown",
   "id": "fa8d0b8e",
   "metadata": {},
   "source": [
    "## Step 5: Evaluate the Model: You can evaluate the model using metrics like accuracy, precision, recall, and F1-score."
   ]
  },
  {
   "cell_type": "code",
   "execution_count": 10,
   "id": "b7eb43ac",
   "metadata": {},
   "outputs": [
    {
     "name": "stdout",
     "output_type": "stream",
     "text": [
      "Accuracy Score: 0.5\n",
      "Precision Score: 0.5\n",
      "F1-Score: 0.6666666666666666\n"
     ]
    }
   ],
   "source": [
    "# Evaluate the model \n",
    "\n",
    "accuracy = accuracy_score(y_test, y_pred)\n",
    "precision = precision_score(y_test, y_pred)\n",
    "recall = recall_score(y_test, y_pred)\n",
    "f1 = f1_score(y_test, y_pred)\n",
    "\n",
    "print(f\"Accuracy Score: {accuracy}\")\n",
    "print(f\"Precision Score: {precision}\")\n",
    "print(f\"F1-Score: {f1}\")\n",
    "\n"
   ]
  },
  {
   "cell_type": "code",
   "execution_count": null,
   "id": "b22b4a86",
   "metadata": {},
   "outputs": [],
   "source": []
  }
 ],
 "metadata": {
  "kernelspec": {
   "display_name": "Python 3 (ipykernel)",
   "language": "python",
   "name": "python3"
  },
  "language_info": {
   "codemirror_mode": {
    "name": "ipython",
    "version": 3
   },
   "file_extension": ".py",
   "mimetype": "text/x-python",
   "name": "python",
   "nbconvert_exporter": "python",
   "pygments_lexer": "ipython3",
   "version": "3.9.7"
  }
 },
 "nbformat": 4,
 "nbformat_minor": 5
}
