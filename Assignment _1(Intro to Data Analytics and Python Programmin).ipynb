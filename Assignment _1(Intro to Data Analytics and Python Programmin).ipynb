{
 "cells": [
  {
   "cell_type": "markdown",
   "id": "1dbc7759",
   "metadata": {},
   "source": [
    "# Q1\n",
    "\n"
   ]
  },
  {
   "cell_type": "code",
   "execution_count": 2,
   "id": "00f3a586",
   "metadata": {},
   "outputs": [
    {
     "data": {
      "text/plain": [
       "50"
      ]
     },
     "execution_count": 2,
     "metadata": {},
     "output_type": "execute_result"
    }
   ],
   "source": [
    "#1 \n",
    "list1 = [1,5,6,2,3,10,11,21,50]     # a list of numbers \n",
    "\n",
    "#prints maxiimum from the list1\n",
    "max(list1)                          \n"
   ]
  },
  {
   "cell_type": "markdown",
   "id": "37ccb75e",
   "metadata": {},
   "source": [
    "# Q2"
   ]
  },
  {
   "cell_type": "code",
   "execution_count": 131,
   "id": "1197ca55",
   "metadata": {},
   "outputs": [
    {
     "name": "stdout",
     "output_type": "stream",
     "text": [
      "New York, Seattle, Virginia, Maryland, Texas, Utah\n"
     ]
    },
    {
     "data": {
      "text/plain": [
       "['New York', 'Seattle', 'Virginia', 'Maryland', 'Texas', 'Utah']"
      ]
     },
     "execution_count": 131,
     "metadata": {},
     "output_type": "execute_result"
    }
   ],
   "source": [
    "#2\n",
    "str_list = ['New York', 'Seattle', 'Virginia','Maryland', 'Texas','Utah']\n",
    "\n",
    "# Use join() to concatenate the list of strings with a comma separator.join(name)\n",
    "combined_string = \", \".join(str_list)\n",
    "\n",
    "# Output the result\n",
    "print(combined_string)\n"
   ]
  },
  {
   "cell_type": "markdown",
   "id": "a527f1ae",
   "metadata": {},
   "source": [
    "# Q3"
   ]
  },
  {
   "cell_type": "code",
   "execution_count": 132,
   "id": "e92f09d8",
   "metadata": {},
   "outputs": [],
   "source": [
    "#3\n",
    "\n",
    "#Create a dictionary with keys name and age and values Dev and 23 coresspondingly.\n",
    "dict_ = {\n",
    "    'name' : 'Dev',\n",
    "    'age'  : 23\n",
    "}\n"
   ]
  },
  {
   "cell_type": "code",
   "execution_count": 133,
   "id": "037ec570",
   "metadata": {},
   "outputs": [
    {
     "name": "stdout",
     "output_type": "stream",
     "text": [
      "23\n"
     ]
    }
   ],
   "source": [
    "print(dict_['age']) "
   ]
  },
  {
   "cell_type": "markdown",
   "id": "25f141b4",
   "metadata": {},
   "source": [
    "## Q4"
   ]
  },
  {
   "cell_type": "code",
   "execution_count": 136,
   "id": "95860be8",
   "metadata": {},
   "outputs": [
    {
     "name": "stdout",
     "output_type": "stream",
     "text": [
      "[1, 2, 3, 4, 5, 6, 7, 8]\n"
     ]
    }
   ],
   "source": [
    "#4\n",
    "\n",
    "list4 = [1,2,3,4,5,6,7,8,5,4,3,2,1]  #List including some duplicate values\n",
    "\n",
    "# Initialize an empty list to store the unique elements\n",
    "unique_list = []\n",
    "\n",
    "# Iterate through the original list\n",
    "for i in list4:\n",
    "    # Only add the item to unique_list if it hasn't been added before\n",
    "    if i not in unique_list:\n",
    "        unique_list.append(i)\n",
    "\n",
    "# Output the result\n",
    "print(unique_list)"
   ]
  },
  {
   "cell_type": "markdown",
   "id": "4ce15ce9",
   "metadata": {},
   "source": [
    "# Q5"
   ]
  },
  {
   "cell_type": "code",
   "execution_count": 137,
   "id": "ff64c974",
   "metadata": {},
   "outputs": [
    {
     "data": {
      "text/plain": [
       "21"
      ]
     },
     "execution_count": 137,
     "metadata": {},
     "output_type": "execute_result"
    }
   ],
   "source": [
    "#5\n",
    "#Import numpy  as np\n",
    "\n",
    "import numpy as np\n",
    "\n",
    "nparray = np.array([1,2,3,4,5,6])  # Sample NumPy array\n",
    "\n",
    "sum(nparray) #calculate sum of all elements in the array\n"
   ]
  },
  {
   "cell_type": "markdown",
   "id": "1b859f41",
   "metadata": {},
   "source": [
    "## Q6"
   ]
  },
  {
   "cell_type": "code",
   "execution_count": 145,
   "id": "bf8f0035",
   "metadata": {},
   "outputs": [
    {
     "name": "stdout",
     "output_type": "stream",
     "text": [
      "[ 2  4  6  8 31]\n"
     ]
    }
   ],
   "source": [
    "#6\n",
    "\n",
    "#create 2D array using np.array \n",
    "nparray2 =np.array ([[2,4,6,8,10],\n",
    "                     [1,3,5,7,31]])\n",
    "\n",
    "\n",
    "# Calculate the maximum values for each column\n",
    "max_values = np.max(nparray2, axis=0)\n",
    "\n",
    "# Output the result\n",
    "print(max_values)"
   ]
  },
  {
   "cell_type": "markdown",
   "id": "78927417",
   "metadata": {},
   "source": [
    "## Q7"
   ]
  },
  {
   "cell_type": "code",
   "execution_count": 146,
   "id": "3f8ec4f0",
   "metadata": {},
   "outputs": [],
   "source": [
    "import pandas as pd \n",
    "\n",
    "# Sample DataFrame\n",
    "data = {\n",
    "    'Name': ['Alex','Sam', 'Carol', 'Meghan', 'Chris', 'Tom', 'John'],\n",
    "    'Age' : [23, 30, 22, 25, 60, 45, 19]\n",
    "}\n",
    "\n",
    "df = pd.DataFrame(data)\n"
   ]
  },
  {
   "cell_type": "code",
   "execution_count": 147,
   "id": "a8e0cdee",
   "metadata": {},
   "outputs": [],
   "source": [
    "df_sorted = df.sort_values(by = 'Age', ascending = False) # Sort the DataFrame by the \"Age\" column in descending order\n"
   ]
  },
  {
   "cell_type": "code",
   "execution_count": 148,
   "id": "99697160",
   "metadata": {},
   "outputs": [
    {
     "name": "stdout",
     "output_type": "stream",
     "text": [
      "     Name  Age\n",
      "4   Chris   60\n",
      "5     Tom   45\n",
      "1     Sam   30\n",
      "3  Meghan   25\n",
      "0    Alex   23\n",
      "2   Carol   22\n",
      "6    John   19\n"
     ]
    }
   ],
   "source": [
    "print(df_sorted)"
   ]
  },
  {
   "cell_type": "markdown",
   "id": "95b5e014",
   "metadata": {},
   "source": [
    "## Q8"
   ]
  },
  {
   "cell_type": "code",
   "execution_count": 45,
   "id": "3c03f788",
   "metadata": {},
   "outputs": [],
   "source": [
    "#8\n",
    "\n",
    "#sample of dataframe\n",
    "data2= {\n",
    "    'Name' : ['Alex','Sam', 'Carol', 'Meghan', 'Chris', 'Tom', 'John'],\n",
    "    'Age'  : [23, 30, 22, 25, 60, 45, 19],\n",
    "    'Sales': [200, 300, 400, 800, 900, 1000, 100]\n",
    "}\n",
    "\n",
    "df2 = pd.DataFrame(data2) #convert data into dataframe"
   ]
  },
  {
   "cell_type": "code",
   "execution_count": 48,
   "id": "4d84860e",
   "metadata": {},
   "outputs": [
    {
     "name": "stdout",
     "output_type": "stream",
     "text": [
      "3700\n"
     ]
    }
   ],
   "source": [
    "total_sales = df2['Sales'].sum()  #find the sum of sales column\n",
    "print(total_sales)"
   ]
  },
  {
   "cell_type": "markdown",
   "id": "1d03ede5",
   "metadata": {},
   "source": [
    "### Q9"
   ]
  },
  {
   "cell_type": "code",
   "execution_count": 52,
   "id": "8f714f27",
   "metadata": {},
   "outputs": [
    {
     "name": "stdout",
     "output_type": "stream",
     "text": [
      "<class 'int'>\n",
      "<class 'str'>\n"
     ]
    }
   ],
   "source": [
    "#9\n",
    "var1 = 333             #assigning integer as var1\n",
    "var2 = 'Angdembay'     #assigning string as var2\n",
    "\n",
    "print(type(var1))  #checks the class of variables \n",
    "print(type(var2))\n",
    "\n"
   ]
  },
  {
   "cell_type": "markdown",
   "id": "39b88d57",
   "metadata": {},
   "source": [
    "## Q10"
   ]
  },
  {
   "cell_type": "code",
   "execution_count": 56,
   "id": "76619c36",
   "metadata": {},
   "outputs": [],
   "source": [
    "#10\n",
    "\n",
    "# sample of mix list\n",
    "mix_list = [2, 3, 1.2, 4.1, 33, 3.3, 'Apple', 'Orange', 4.5, 'Lemon', 'Cherry']\n",
    "\n",
    "integer_ = []   # Initialize an empty list to store the integer\n",
    "float_ =[]      # Initialize an empty list to store the float\n",
    "string_ = []    # Initialize an empty list to store the string\n",
    "\n",
    "#Iterate through the mixed list\n",
    "for i in mix_list:\n",
    "    if type(i) == int:\n",
    "        integer_.append(i) # append integer into integer list\n",
    "    elif type(i) == float:\n",
    "        float_.append(i)   #append float type into float list\n",
    "    else:\n",
    "        string_.append(i)  #append string type to string\n",
    "        "
   ]
  },
  {
   "cell_type": "code",
   "execution_count": 59,
   "id": "ca5db35b",
   "metadata": {},
   "outputs": [
    {
     "name": "stdout",
     "output_type": "stream",
     "text": [
      "Integers = [2, 3, 33]\n",
      "Floats =  [1.2, 4.1, 3.3, 4.5]\n",
      "Strings = ['Apple', 'Orange', 'Lemon', 'Cherry']\n"
     ]
    }
   ],
   "source": [
    "#print the seperate lists of each type \n",
    "print('Integers =', integer_)\n",
    "print('Floats = ', float_)\n",
    "print('Strings =', string_)"
   ]
  },
  {
   "cell_type": "markdown",
   "id": "d058714a",
   "metadata": {},
   "source": [
    "## Q11"
   ]
  },
  {
   "cell_type": "code",
   "execution_count": 64,
   "id": "769d46f9",
   "metadata": {},
   "outputs": [
    {
     "name": "stdout",
     "output_type": "stream",
     "text": [
      "[22, 34, 1, 2, 5, 21]\n"
     ]
    }
   ],
   "source": [
    "#11.\n",
    "#sample of string of comma seoareted numbers\n",
    "num_str = \"22, 34, 1, 2, 5, 21\"\n",
    "\n",
    "num_list = [int(num) for num in num_list] #Convert each substring to an integer\n",
    "\n",
    "print(num_list)\n",
    "\n",
    "\n",
    "\n"
   ]
  },
  {
   "cell_type": "markdown",
   "id": "d985d8fb",
   "metadata": {},
   "source": [
    "## Q12"
   ]
  },
  {
   "cell_type": "code",
   "execution_count": 89,
   "id": "6b8a9f45",
   "metadata": {},
   "outputs": [
    {
     "name": "stdout",
     "output_type": "stream",
     "text": [
      "yM eman si atsiR yabmedgnA\n"
     ]
    }
   ],
   "source": [
    "#12.\n",
    "\n",
    "#sample of a sentence\n",
    "sentence = 'My name is Rista Angdembay'\n",
    "\n",
    "# Step 1: Split the sentence into words\n",
    "words = sentence.split()\n",
    "words\n",
    "\n",
    "#reverse each word stored in words \n",
    "reversed_words = [word[::-1] for word in words]\n",
    "\n",
    "# join the words to make a rentence with a space \" \" between the reversed words\n",
    "reversed_sentence = \" \".join(reversed_words)\n",
    "\n",
    "# Output the result\n",
    "print(reversed_sentence)"
   ]
  },
  {
   "cell_type": "markdown",
   "id": "f8e1ed29",
   "metadata": {},
   "source": [
    "## Q13"
   ]
  },
  {
   "cell_type": "code",
   "execution_count": 91,
   "id": "11981a39",
   "metadata": {},
   "outputs": [
    {
     "name": "stdout",
     "output_type": "stream",
     "text": [
      "{'Name': 'Andra', 'Age': 27, 'ZipCode': '11373'}\n"
     ]
    }
   ],
   "source": [
    "#13.\n",
    "\n",
    "#samples of two lists \n",
    "list1 = ['Name','Age','ZipCode']\n",
    "list2 = ['Andra', 27, '11373']\n",
    "\n",
    "# Ensure both lists are of the same length\n",
    "if len(list1) == len(list2) :  \n",
    "    dict_ = {list1[i]: list2[i] for i in range(len(list1))} # Use dictionary comprehension to create the dictionary\n",
    "else:\n",
    "    # Handle the case where lists are not of the same length\n",
    "    raise ValueError(\"Both lists must have the same length.\")\n",
    "\n",
    "# Output the result\n",
    "print(dict_)"
   ]
  },
  {
   "cell_type": "markdown",
   "id": "25838418",
   "metadata": {},
   "source": [
    "## Q14"
   ]
  },
  {
   "cell_type": "code",
   "execution_count": 99,
   "id": "356abf70",
   "metadata": {},
   "outputs": [
    {
     "name": "stdout",
     "output_type": "stream",
     "text": [
      "[('Jimmy', 16), ('John', 19), ('Alisha', 33), ('Sara', 50), ('Jesenia', 50)]\n"
     ]
    }
   ],
   "source": [
    "#14.\n",
    "\n",
    "tuples = [('Alisha', 33), ('John', 19), ('Sara', 50), ('Jimmy', 16), ('Jesenia',50)]\n",
    "\n",
    "tuples.sort( key = lambda x : x[1]) # Sort by the second element in each tuple (age)\n",
    "\n",
    "# Output the sorted list\n",
    "print(tuples)"
   ]
  },
  {
   "cell_type": "markdown",
   "id": "2d0f4a20",
   "metadata": {},
   "source": [
    "## Q15"
   ]
  },
  {
   "cell_type": "code",
   "execution_count": 103,
   "id": "c7ee0f00",
   "metadata": {},
   "outputs": [
    {
     "name": "stdout",
     "output_type": "stream",
     "text": [
      "[ 6.8 41.4]\n"
     ]
    }
   ],
   "source": [
    "#15.\n",
    "\n",
    "array1 = np.array([[3,5,7,9,10],\n",
    "                   [56,34,33,40,44]])\n",
    "\n",
    "row_means = np.mean(array1, axis=1)\n",
    "\n",
    "# Output the result\n",
    "print(row_means)"
   ]
  },
  {
   "cell_type": "markdown",
   "id": "93e6b1ff",
   "metadata": {},
   "source": [
    "## Q16"
   ]
  },
  {
   "cell_type": "code",
   "execution_count": 104,
   "id": "00502a24",
   "metadata": {},
   "outputs": [
    {
     "data": {
      "text/plain": [
       "array([0., 0., 0., 0., 0., 0., 0., 0., 0., 0.])"
      ]
     },
     "execution_count": 104,
     "metadata": {},
     "output_type": "execute_result"
    }
   ],
   "source": [
    "#16.\n",
    "\n",
    "array2 = np.zeros(10) #creating an array conataining 10 zeroes\n",
    "array2"
   ]
  },
  {
   "cell_type": "code",
   "execution_count": 110,
   "id": "af59f2fc",
   "metadata": {},
   "outputs": [
    {
     "name": "stdout",
     "output_type": "stream",
     "text": [
      "[0. 0. 0. 0. 0. 5. 0. 0. 0. 0.]\n"
     ]
    }
   ],
   "source": [
    "array2[5]= 5  #assigning 5 to the fifth element of the array\n",
    "print(array2)"
   ]
  },
  {
   "cell_type": "markdown",
   "id": "d96e0c39",
   "metadata": {},
   "source": [
    "## Q17"
   ]
  },
  {
   "cell_type": "code",
   "execution_count": 113,
   "id": "a1fded1f",
   "metadata": {},
   "outputs": [],
   "source": [
    "#17\n",
    "import pandas as pd \n",
    "\n",
    "data = {\n",
    "    'Name':[\"Alice\", \"Bob\", \"Charlie\", \"David\", \"Eve\"],\n",
    "    'Scores':[99, 95, 110, 85, 100]\n",
    "}\n",
    "\n",
    "dataframe = pd.DataFrame(data)"
   ]
  },
  {
   "cell_type": "code",
   "execution_count": 115,
   "id": "2f5f569d",
   "metadata": {},
   "outputs": [
    {
     "data": {
      "text/plain": [
       "91.0"
      ]
     },
     "execution_count": 115,
     "metadata": {},
     "output_type": "execute_result"
    }
   ],
   "source": [
    "dataframe['Scores'].median() #median of the scores "
   ]
  },
  {
   "cell_type": "markdown",
   "id": "94b0b0c5",
   "metadata": {},
   "source": [
    "## Q18"
   ]
  },
  {
   "cell_type": "code",
   "execution_count": 117,
   "id": "2ee87d1e",
   "metadata": {},
   "outputs": [],
   "source": [
    "#18.\n",
    "import pandas as pd \n",
    "\n",
    "# Sample DataFrame\n",
    "data = {\n",
    "    \"Date\": [\"2024-01-01\", \"2024-01-02\", \"2024-01-03\", \"2024-01-04\", \"2024-01-05\"],\n",
    "    \"Sales\": [150, 90, 200, 120, 80]\n",
    "}\n",
    "\n",
    "df = pd.DataFrame(data)\n",
    "\n",
    "# Convert the \"Date\" column to datetime format if it's not already\n",
    "df[\"Date\"] = pd.to_datetime(df[\"Date\"])\n",
    "\n"
   ]
  },
  {
   "cell_type": "code",
   "execution_count": 118,
   "id": "aec81846",
   "metadata": {},
   "outputs": [
    {
     "name": "stdout",
     "output_type": "stream",
     "text": [
      "        Date  Sales\n",
      "3 2024-01-04    120\n",
      "2 2024-01-03    200\n",
      "0 2024-01-01    150\n"
     ]
    }
   ],
   "source": [
    "# Step 1: Filter rows where \"Sales\" is above 100\n",
    "filtered_df = df[df[\"Sales\"] > 100]\n",
    "\n",
    "# Step 2: Sort the filtered DataFrame by \"Date\" in descending order\n",
    "sorted_df = filtered_df.sort_values(by=\"Date\", ascending=False)\n",
    "\n",
    "# Output the result\n",
    "print(sorted_df)"
   ]
  },
  {
   "cell_type": "markdown",
   "id": "a71a73bf",
   "metadata": {},
   "source": [
    "## Q19"
   ]
  },
  {
   "cell_type": "code",
   "execution_count": 124,
   "id": "5e076865",
   "metadata": {},
   "outputs": [
    {
     "name": "stdout",
     "output_type": "stream",
     "text": [
      "Invalid case.\n"
     ]
    }
   ],
   "source": [
    "#19.\n",
    "\n",
    "number_str = \"we\"  # assigning a number as a string with enclosed with \" \"\n",
    "\n",
    "if number_str.isdigit():  #checks if it is a digit \n",
    "    number = int(number_str) #converts into integer types \n",
    "    print(f\"{number}\")  #  prints out the converted integer\n",
    "else:\n",
    "    print(\"Invalid case.\") # itv prints out if not number_str in not a digit\n",
    "\n"
   ]
  },
  {
   "cell_type": "markdown",
   "id": "12484940",
   "metadata": {},
   "source": [
    "## Q20"
   ]
  },
  {
   "cell_type": "code",
   "execution_count": 122,
   "id": "8731c8ac",
   "metadata": {},
   "outputs": [
    {
     "name": "stdout",
     "output_type": "stream",
     "text": [
      "['Apple', 'Orange', 'Lemon', 'Cherry']\n"
     ]
    }
   ],
   "source": [
    "#20\n",
    "\n",
    "# Create a mixed list\n",
    "mix_list = [2, 3, 1.2, 4.1, 33, 3.3, 'Apple', 'Orange', 4.5, 'Lemon', 'Cherry']\n",
    "\n",
    "\n",
    "string_list = [i for i in mix_list if type(i) == str] # Extract all strings using list comprehension with type()\n",
    "\n",
    "print(string_list) #print the list of string"
   ]
  },
  {
   "cell_type": "code",
   "execution_count": null,
   "id": "ad1e7c43",
   "metadata": {},
   "outputs": [],
   "source": []
  }
 ],
 "metadata": {
  "kernelspec": {
   "display_name": "Python 3 (ipykernel)",
   "language": "python",
   "name": "python3"
  },
  "language_info": {
   "codemirror_mode": {
    "name": "ipython",
    "version": 3
   },
   "file_extension": ".py",
   "mimetype": "text/x-python",
   "name": "python",
   "nbconvert_exporter": "python",
   "pygments_lexer": "ipython3",
   "version": "3.9.7"
  }
 },
 "nbformat": 4,
 "nbformat_minor": 5
}
